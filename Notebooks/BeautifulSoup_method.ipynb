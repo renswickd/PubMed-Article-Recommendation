{
 "cells": [
  {
   "cell_type": "code",
   "execution_count": 1,
   "id": "289a05b2",
   "metadata": {},
   "outputs": [],
   "source": [
    "from bs4 import BeautifulSoup\n",
    "import requests"
   ]
  },
  {
   "cell_type": "code",
   "execution_count": 2,
   "id": "ef2532f8",
   "metadata": {},
   "outputs": [],
   "source": [
    "# for i in range(1,10,1):\n",
    "#     url = \"https://pubmed.ncbi.nlm.nih.gov/?term=covid\"+i.__str__()\n",
    "#     response = requests.get(url)"
   ]
  },
  {
   "cell_type": "code",
   "execution_count": 5,
   "id": "2dbdc72b",
   "metadata": {},
   "outputs": [],
   "source": [
    "url = \"https://pubmed.ncbi.nlm.nih.gov/?term=covid\"\n",
    "response = requests.get(url)"
   ]
  },
  {
   "cell_type": "code",
   "execution_count": 6,
   "id": "9fee2ee3",
   "metadata": {},
   "outputs": [],
   "source": [
    "soup = BeautifulSoup(response.content, 'html.parser')"
   ]
  },
  {
   "cell_type": "code",
   "execution_count": 7,
   "id": "9d95a903",
   "metadata": {},
   "outputs": [],
   "source": [
    "# print(soup.prettify())"
   ]
  },
  {
   "cell_type": "code",
   "execution_count": 8,
   "id": "4d05dc17",
   "metadata": {},
   "outputs": [],
   "source": [
    "content = soup.find_all('div', class_ = \"docsum-content\")"
   ]
  },
  {
   "cell_type": "code",
   "execution_count": 9,
   "id": "81a73302",
   "metadata": {},
   "outputs": [
    {
     "name": "stdout",
     "output_type": "stream",
     "text": [
      "['33053381', 'Treatment for COVID-19: An overview.', 'Stasi C, Fallani S, Voller F, Silvestri C.', 'Coronavirus disease 2019 (COVID-19) is an infectious disease caused by coronavirus-2 (SARS-CoV-2) that causes a severe acute respiratory syndrome, a characteristic hyperinflammatory response, vascular damage, microangiopathy, angiogenesis …']\n",
      "['33307513', 'COVID-19 and cancer: From basic mechanisms to vaccine development using nanotechnology.', 'Han HJ, Nwagwu C, Anyim O, Ekweremadu C, Kim S.', 'Coronavirus disease 2019 (COVID-19), caused by severe acute respiratory syndrome coronavirus 2 (SARS-CoV-2), is a global pandemic which has induced unprecedented ramifications, severely affecting our society due to the long incubation tim …']\n",
      "['35105985', 'Pathological sequelae of long-haul COVID.', 'Mehandru S, Merad M.', 'The world continues to contend with successive waves of coronavirus disease 2019 (COVID-19), fueled by the emergence of viral variants. At the same time, persistent, prolonged and often debilitating sequelae are increasingly recognized in convalescent individuals, n …']\n",
      "['33506952', 'Role of Toll-like receptors in the pathogenesis of COVID-19.', 'Khanmohammadi S, Rezaei N.', 'Coronavirus disease 2019 (COVID-19), caused by severe acute respiratory syndrome coronavirus 2 (SARS-CoV-2), has led to a pandemic since March 2020. ...However, available data from other coronavirus families, such as SARS-CoV …']\n",
      "['33305456', 'COVID-19: Virology, biology and novel laboratory diagnosis.', 'Mohamadian M, Chiti H, Shoghli A, Biglari S, Parsamanesh N, Esmaeilzadeh A.', 'SARS-CoV-2 is an RNA virus that has become a major public health concern after the outbreak of the Middle East Respiratory Syndrome-CoV (MERS-CoV) and Severe Acute Respiratory Syndrome-CoV (SARS-CoV) in 2002 and 2012, respec …']\n",
      "['33244462', 'An Update on Molecular Diagnostics for COVID-19.', 'Islam KU, Iqbal J.', 'A novel strain of Severe Acute Respiratory Syndrome Coronavirus 2 (SARS-CoV-2) disease (COVID-19) has been recently identified as an infectious disease affecting the respiratory system of humans. This disease is caused by SARS-C …']\n",
      "['33435929', 'Insights to SARS-CoV-2 life cycle, pathophysiology, and rationalized treatments that target COVID-19 clinical complications.', 'Trougakos IP, Stamatelopoulos K, Terpos E, Tsitsilonis OE, Aivalioti E, Paraskevis D, Kastritis E, Pavlakis GN, Dimopoulos MA.', 'BACKGROUND: Gaining further insights into SARS-CoV-2 routes of infection and the underlying pathobiology of COVID-19 will support the design of rational treatments targeting the life cycle of the virus and/or the adverse effects (e.g., multi-org …']\n",
      "['33617700', 'COVID-19 and neurology perspective.', 'Singh S, Ahirwar AK, Asia P, Gopal N, Kaim K, Ahirwar P.', 'COVID-19 caused by SARS CoV2 (The novel corona virus) has already taken lives of many people across the globe even more than anyone could have imagined. ...When a person is infected the clinical presentation ranges from asymptomatic to severe ARDS, sudden ons …']\n",
      "['33010669', 'The novel coronavirus Disease-2019 (COVID-19): Mechanism of action, detection and recent therapeutic strategies.', 'Seyed Hosseini E, Riahi Kashani N, Nikzad H, Azadbakht J, Hassani Bafrani H, Haddad Kashani H.', 'Novel coronavirus SARS-CoV-2, designated as COVID-19 by the World Health Organization (WHO) on the February 11, 2020, is one of the highly pathogenic beta-coronaviruses which infects human. ...The emergence of 2019-nCoV during the influenza seas …']\n",
      "['33666147', 'Lessons learned 1 year after SARS-CoV-2 emergence leading to COVID-19 pandemic.', 'To KK, Sridhar S, Chiu KH, Hung DL, Li X, Hung IF, Tam AR, Chung TW, Chan JF, Zhang AJ, Cheng VC, Yuen KY.', 'Without modern medical management and vaccines, the severity of the Coronavirus Disease 2019 (COVID-19) pandemic caused by severe acute respiratory syndrome (SARS) coronavirus 2 (SARS-CoV-2) might approach the magnitude of 1894-pla …']\n"
     ]
    }
   ],
   "source": [
    "itemful = []\n",
    "\n",
    "for item in content:\n",
    "    items = []\n",
    "    pmid = item.find(\"span\", class_=\"docsum-pmid\")\n",
    "    paper_name = item.find(\"a\", class_=\"docsum-title\")\n",
    "    author = item.find(\"span\", class_=\"docsum-authors full-authors\")\n",
    "    abstract = item.find(\"div\", class_=\"full-view-snippet\")\n",
    "    \n",
    "    if paper_name and author:\n",
    "        items.append(pmid.text.strip())\n",
    "        items.append(paper_name.text.strip())\n",
    "        items.append(author.text.strip())\n",
    "        items.append(abstract.text.strip())\n",
    "        \n",
    "        itemful.append(items)\n",
    "\n",
    "for items in itemful:\n",
    "    print(items)"
   ]
  }
 ],
 "metadata": {
  "kernelspec": {
   "display_name": "Python 3 (ipykernel)",
   "language": "python",
   "name": "python3"
  },
  "language_info": {
   "codemirror_mode": {
    "name": "ipython",
    "version": 3
   },
   "file_extension": ".py",
   "mimetype": "text/x-python",
   "name": "python",
   "nbconvert_exporter": "python",
   "pygments_lexer": "ipython3",
   "version": "3.9.13"
  }
 },
 "nbformat": 4,
 "nbformat_minor": 5
}
