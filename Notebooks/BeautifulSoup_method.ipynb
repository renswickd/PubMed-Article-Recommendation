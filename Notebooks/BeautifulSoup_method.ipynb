{
 "cells": [
  {
   "cell_type": "code",
   "execution_count": 29,
   "id": "289a05b2",
   "metadata": {},
   "outputs": [],
   "source": [
    "from bs4 import BeautifulSoup\n",
    "import requests"
   ]
  },
  {
   "cell_type": "code",
   "execution_count": 12,
   "id": "cd801e1d",
   "metadata": {},
   "outputs": [
    {
     "name": "stdout",
     "output_type": "stream",
     "text": [
      "Enter your query: viral fever\n"
     ]
    },
    {
     "data": {
      "text/plain": [
       "'https://pubmed.ncbi.nlm.nih.gov/?term=viral+fever+'"
      ]
     },
     "execution_count": 12,
     "metadata": {},
     "output_type": "execute_result"
    }
   ],
   "source": [
    "user_input = input(\"Enter your query: \")\n",
    "input1 = user_input.split(\" \")\n",
    "url = \"https://pubmed.ncbi.nlm.nih.gov/?term=\"\n",
    "for txt in input1:\n",
    "    if len(input1)>1:\n",
    "        url = url+ txt + \"+\"\n",
    "    else:\n",
    "        url = url + txt\n",
    "    \n",
    "    \n",
    "url"
   ]
  },
  {
   "cell_type": "code",
   "execution_count": 27,
   "id": "b25d2ef1",
   "metadata": {},
   "outputs": [
    {
     "data": {
      "text/plain": [
       "'https://pubmed.ncbi.nlm.nih.gov/?term=child+fever'"
      ]
     },
     "execution_count": 27,
     "metadata": {},
     "output_type": "execute_result"
    }
   ],
   "source": [
    "def generate_query(user_input):\n",
    "    input1 = user_input.strip().replace(\" \" , \"+\")\n",
    "    return f\"https://pubmed.ncbi.nlm.nih.gov/?term={input1}\"\n",
    "\n",
    "generate_query(\"child fever \")"
   ]
  },
  {
   "cell_type": "code",
   "execution_count": 2,
   "id": "ef2532f8",
   "metadata": {},
   "outputs": [],
   "source": [
    "# for i in range(1,10,1):\n",
    "#     url = \"https://pubmed.ncbi.nlm.nih.gov/?term=covid\"+i.__str__()\n",
    "#     response = requests.get(url)"
   ]
  },
  {
   "cell_type": "code",
   "execution_count": 31,
   "id": "2dbdc72b",
   "metadata": {},
   "outputs": [
    {
     "name": "stdout",
     "output_type": "stream",
     "text": [
      "<Response [200]>\n"
     ]
    }
   ],
   "source": [
    "url = \"https://pubmed.ncbi.nlm.nih.gov/?term=covid\"\n",
    "response = requests.get(url)\n",
    "print(response)"
   ]
  },
  {
   "cell_type": "code",
   "execution_count": 37,
   "id": "9fee2ee3",
   "metadata": {},
   "outputs": [],
   "source": [
    "soup = BeautifulSoup(response.content, 'html.parser')\n",
    "# print(soup.prettify())"
   ]
  },
  {
   "cell_type": "code",
   "execution_count": 42,
   "id": "4d05dc17",
   "metadata": {},
   "outputs": [],
   "source": [
    "content = soup.find_all('div', class_ = \"docsum-content\")"
   ]
  },
  {
   "cell_type": "code",
   "execution_count": 9,
   "id": "81a73302",
   "metadata": {},
   "outputs": [
    {
     "name": "stdout",
     "output_type": "stream",
     "text": [
      "['33053381', 'Treatment for COVID-19: An overview.', 'Stasi C, Fallani S, Voller F, Silvestri C.', 'Coronavirus disease 2019 (COVID-19) is an infectious disease caused by coronavirus-2 (SARS-CoV-2) that causes a severe acute respiratory syndrome, a characteristic hyperinflammatory response, vascular damage, microangiopathy, angiogenesis …']\n",
      "['33307513', 'COVID-19 and cancer: From basic mechanisms to vaccine development using nanotechnology.', 'Han HJ, Nwagwu C, Anyim O, Ekweremadu C, Kim S.', 'Coronavirus disease 2019 (COVID-19), caused by severe acute respiratory syndrome coronavirus 2 (SARS-CoV-2), is a global pandemic which has induced unprecedented ramifications, severely affecting our society due to the long incubation tim …']\n",
      "['35105985', 'Pathological sequelae of long-haul COVID.', 'Mehandru S, Merad M.', 'The world continues to contend with successive waves of coronavirus disease 2019 (COVID-19), fueled by the emergence of viral variants. At the same time, persistent, prolonged and often debilitating sequelae are increasingly recognized in convalescent individuals, n …']\n",
      "['33506952', 'Role of Toll-like receptors in the pathogenesis of COVID-19.', 'Khanmohammadi S, Rezaei N.', 'Coronavirus disease 2019 (COVID-19), caused by severe acute respiratory syndrome coronavirus 2 (SARS-CoV-2), has led to a pandemic since March 2020. ...However, available data from other coronavirus families, such as SARS-CoV …']\n",
      "['33305456', 'COVID-19: Virology, biology and novel laboratory diagnosis.', 'Mohamadian M, Chiti H, Shoghli A, Biglari S, Parsamanesh N, Esmaeilzadeh A.', 'SARS-CoV-2 is an RNA virus that has become a major public health concern after the outbreak of the Middle East Respiratory Syndrome-CoV (MERS-CoV) and Severe Acute Respiratory Syndrome-CoV (SARS-CoV) in 2002 and 2012, respec …']\n",
      "['33244462', 'An Update on Molecular Diagnostics for COVID-19.', 'Islam KU, Iqbal J.', 'A novel strain of Severe Acute Respiratory Syndrome Coronavirus 2 (SARS-CoV-2) disease (COVID-19) has been recently identified as an infectious disease affecting the respiratory system of humans. This disease is caused by SARS-C …']\n",
      "['33435929', 'Insights to SARS-CoV-2 life cycle, pathophysiology, and rationalized treatments that target COVID-19 clinical complications.', 'Trougakos IP, Stamatelopoulos K, Terpos E, Tsitsilonis OE, Aivalioti E, Paraskevis D, Kastritis E, Pavlakis GN, Dimopoulos MA.', 'BACKGROUND: Gaining further insights into SARS-CoV-2 routes of infection and the underlying pathobiology of COVID-19 will support the design of rational treatments targeting the life cycle of the virus and/or the adverse effects (e.g., multi-org …']\n",
      "['33617700', 'COVID-19 and neurology perspective.', 'Singh S, Ahirwar AK, Asia P, Gopal N, Kaim K, Ahirwar P.', 'COVID-19 caused by SARS CoV2 (The novel corona virus) has already taken lives of many people across the globe even more than anyone could have imagined. ...When a person is infected the clinical presentation ranges from asymptomatic to severe ARDS, sudden ons …']\n",
      "['33010669', 'The novel coronavirus Disease-2019 (COVID-19): Mechanism of action, detection and recent therapeutic strategies.', 'Seyed Hosseini E, Riahi Kashani N, Nikzad H, Azadbakht J, Hassani Bafrani H, Haddad Kashani H.', 'Novel coronavirus SARS-CoV-2, designated as COVID-19 by the World Health Organization (WHO) on the February 11, 2020, is one of the highly pathogenic beta-coronaviruses which infects human. ...The emergence of 2019-nCoV during the influenza seas …']\n",
      "['33666147', 'Lessons learned 1 year after SARS-CoV-2 emergence leading to COVID-19 pandemic.', 'To KK, Sridhar S, Chiu KH, Hung DL, Li X, Hung IF, Tam AR, Chung TW, Chan JF, Zhang AJ, Cheng VC, Yuen KY.', 'Without modern medical management and vaccines, the severity of the Coronavirus Disease 2019 (COVID-19) pandemic caused by severe acute respiratory syndrome (SARS) coronavirus 2 (SARS-CoV-2) might approach the magnitude of 1894-pla …']\n"
     ]
    }
   ],
   "source": [
    "itemful = []\n",
    "\n",
    "for item in content:\n",
    "    items = []\n",
    "    pmid = item.find(\"span\", class_=\"docsum-pmid\")\n",
    "    paper_name = item.find(\"a\", class_=\"docsum-title\")\n",
    "    author = item.find(\"span\", class_=\"docsum-authors full-authors\")\n",
    "    abstract = item.find(\"div\", class_=\"full-view-snippet\")\n",
    "    \n",
    "    if paper_name and author:\n",
    "        items.append(pmid.text.strip())\n",
    "        items.append(paper_name.text.strip())\n",
    "        items.append(author.text.strip())\n",
    "        items.append(abstract.text.strip())\n",
    "        \n",
    "        itemful.append(items)\n",
    "\n",
    "for items in itemful:\n",
    "    print(items)"
   ]
  },
  {
   "cell_type": "code",
   "execution_count": 48,
   "id": "844fbaf4",
   "metadata": {},
   "outputs": [
    {
     "name": "stdout",
     "output_type": "stream",
     "text": [
      "{'35105985': {'paper_name': 'Pathological sequelae of long-haul COVID.', 'author': 'Mehandru S, Merad M.', 'abstract': 'The world continues to contend with successive waves of coronavirus disease 2019 (COVID-19), fueled by the emergence of viral variants. At the same time, persistent, prolonged and often debilitating sequelae are increasingly recognized in convalescent individuals, n …'}, '33024307': {'paper_name': 'Characteristics of SARS-CoV-2 and COVID-19.', 'author': 'Hu B, Guo H, Zhou P, Shi ZL.', 'abstract': \"Severe acute respiratory syndrome coronavirus 2 (SARS-CoV-2) is a highly transmissible and pathogenic coronavirus that emerged in late 2019 and has caused a pandemic of acute respiratory disease, named 'coronavirus disease 2019' (COVID-19 …\"}, '35163638': {'paper_name': 'SARS-CoV-2-Specific Immune Response and the Pathogenesis of COVID-19.', 'author': 'Gusev E, Sarapultsev A, Solomatina L, Chereshnev V.', 'abstract': 'The review aims to consolidate research findings on the molecular mechanisms and virulence and pathogenicity characteristics of coronavirus disease (COVID-19) causative agent, severe acute respiratory syndrome coronavirus 2 (SARS-CoV-2), …'}, '33053381': {'paper_name': 'Treatment for COVID-19: An overview.', 'author': 'Stasi C, Fallani S, Voller F, Silvestri C.', 'abstract': 'Coronavirus disease 2019 (COVID-19) is an infectious disease caused by coronavirus-2 (SARS-CoV-2) that causes a severe acute respiratory syndrome, a characteristic hyperinflammatory response, vascular damage, microangiopathy, angiogenesis …'}, '33305456': {'paper_name': 'COVID-19: Virology, biology and novel laboratory diagnosis.', 'author': 'Mohamadian M, Chiti H, Shoghli A, Biglari S, Parsamanesh N, Esmaeilzadeh A.', 'abstract': 'SARS-CoV-2 is an RNA virus that has become a major public health concern after the outbreak of the Middle East Respiratory Syndrome-CoV (MERS-CoV) and Severe Acute Respiratory Syndrome-CoV (SARS-CoV) in 2002 and 2012, respec …'}, '34241776': {'paper_name': 'A Comprehensive Review of COVID-19 Virology, Vaccines, Variants, and Therapeutics.', 'author': 'Forchette L, Sebastian W, Liu T.', 'abstract': 'Severe acute respiratory syndrome coronavirus 2 (SARS-CoV-2), the causative pathogen of the coronavirus disease 2019 (COVID-19), has caused more than 179 million infections and 3.8 million deaths worldwide. ...We also discussed new techno …'}, '33506952': {'paper_name': 'Role of Toll-like receptors in the pathogenesis of COVID-19.', 'author': 'Khanmohammadi S, Rezaei N.', 'abstract': 'Coronavirus disease 2019 (COVID-19), caused by severe acute respiratory syndrome coronavirus 2 (SARS-CoV-2), has led to a pandemic since March 2020. ...However, available data from other coronavirus families, such as SARS-CoV …'}, '32971147': {'paper_name': 'The emergence of COVID-19 as a global pandemic: Understanding the epidemiology, immune response and potential therapeutic targets of SARS-CoV-2.', 'author': 'Muralidar S, Ambi SV, Sekaran S, Krishnan UM.', 'abstract': 'An acute respiratory disease caused by a severe acute respiratory syndrome coronavirus 2 (SARS-CoV-2) that surfaced in China in late 2019, continues to spread rapidly across the globe causing serious concerns. ...There is no specific drug or vaccine ta …'}, '33010669': {'paper_name': 'The novel coronavirus Disease-2019 (COVID-19): Mechanism of action, detection and recent therapeutic strategies.', 'author': 'Seyed Hosseini E, Riahi Kashani N, Nikzad H, Azadbakht J, Hassani Bafrani H, Haddad Kashani H.', 'abstract': 'Novel coronavirus SARS-CoV-2, designated as COVID-19 by the World Health Organization (WHO) on the February 11, 2020, is one of the highly pathogenic beta-coronaviruses which infects human. ...The emergence of 2019-nCoV during the influenza seas …'}, '33244462': {'paper_name': 'An Update on Molecular Diagnostics for COVID-19.', 'author': 'Islam KU, Iqbal J.', 'abstract': 'A novel strain of Severe Acute Respiratory Syndrome Coronavirus 2 (SARS-CoV-2) disease (COVID-19) has been recently identified as an infectious disease affecting the respiratory system of humans. This disease is caused by SARS-C …'}}\n"
     ]
    }
   ],
   "source": [
    "itemful = {}\n",
    "\n",
    "for item in content:\n",
    "    pmid = item.find(\"span\", class_=\"docsum-pmid\").text.strip()\n",
    "\n",
    "    itemful[pmid]={ \n",
    "        \"paper_name\":item.find(\"a\", class_=\"docsum-title\").text.strip(),\n",
    "        \"author\":item.find(\"span\", class_=\"docsum-authors full-authors\").text.strip(),\n",
    "        \"abstract\":item.find(\"div\", class_=\"full-view-snippet\").text.strip()\n",
    "    }\n",
    "\n",
    "print(itemful)\n"
   ]
  },
  {
   "cell_type": "code",
   "execution_count": 49,
   "id": "6da5fa1a",
   "metadata": {},
   "outputs": [
    {
     "name": "stdout",
     "output_type": "stream",
     "text": [
      "{'paper_name': 'An Update on Molecular Diagnostics for COVID-19.', 'author': 'Islam KU, Iqbal J.', 'abstract': 'A novel strain of Severe Acute Respiratory Syndrome Coronavirus 2 (SARS-CoV-2) disease (COVID-19) has been recently identified as an infectious disease affecting the respiratory system of humans. This disease is caused by SARS-C …'}\n"
     ]
    }
   ],
   "source": [
    "itemful = {}\n",
    "\n",
    "for item in content:\n",
    "    pmid = item.find(\"span\", class_=\"docsum-pmid\").text.strip()\n",
    "    paper_name = item.find(\"a\", class_=\"docsum-title\").text.strip()\n",
    "    author = item.find(\"span\", class_=\"docsum-authors full-authors\").text.strip()\n",
    "    abstract = item.find(\"div\", class_=\"full-view-snippet\").text.strip()\n",
    "    \n",
    "    itemful[pmid]={\n",
    "        \"paper_name\":paper_name,\n",
    "        \"author\":author,\n",
    "        \"abstract\":abstract\n",
    "    }\n",
    "\n",
    "print(itemful[\"33244462\"])"
   ]
  },
  {
   "cell_type": "code",
   "execution_count": null,
   "id": "14b85979",
   "metadata": {},
   "outputs": [],
   "source": []
  }
 ],
 "metadata": {
  "kernelspec": {
   "display_name": "Python 3 (ipykernel)",
   "language": "python",
   "name": "python3"
  },
  "language_info": {
   "codemirror_mode": {
    "name": "ipython",
    "version": 3
   },
   "file_extension": ".py",
   "mimetype": "text/x-python",
   "name": "python",
   "nbconvert_exporter": "python",
   "pygments_lexer": "ipython3",
   "version": "3.9.13"
  }
 },
 "nbformat": 4,
 "nbformat_minor": 5
}
