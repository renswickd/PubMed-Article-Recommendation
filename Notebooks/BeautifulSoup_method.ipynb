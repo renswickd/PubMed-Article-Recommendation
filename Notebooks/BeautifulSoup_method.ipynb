{
 "cells": [
  {
   "cell_type": "code",
   "execution_count": 16,
   "id": "289a05b2",
   "metadata": {},
   "outputs": [],
   "source": [
    "from bs4 import BeautifulSoup\n",
    "import requests\n",
    "import re"
   ]
  },
  {
   "cell_type": "code",
   "execution_count": 17,
   "id": "b25d2ef1",
   "metadata": {},
   "outputs": [],
   "source": [
    "def generate_query_url(user_input):\n",
    "    input1 = user_input.strip().replace(\" \" , \"+\")\n",
    "    return f\"https://pubmed.ncbi.nlm.nih.gov/?term={input1}\"\n",
    "\n",
    "def generate_abstract(pmid):\n",
    "    abstact_url = \"https://pubmed.ncbi.nlm.nih.gov/\"+pmid+\"/\"\n",
    "    response = requests.get(abstact_url)\n",
    "    try:\n",
    "        soup = BeautifulSoup(response.content, 'html.parser')\n",
    "        content = soup.find_all('div', class_=\"article-page\")\n",
    "        abstract = content[0].find(\"div\", class_=\"abstract-content selected\").text.strip()\n",
    "        abstract = \" \".join(abstract.split())\n",
    "    except:\n",
    "        abstract = None\n",
    "        \n",
    "    return abstract\n",
    "\n",
    "def to_get_doi(pmid):\n",
    "    doi_url = \"https://pubmed.ncbi.nlm.nih.gov/\"+pmid+\"/\"\n",
    "    response = requests.get(doi_url)\n",
    "    soup = BeautifulSoup(response.content, 'html.parser')\n",
    "    content = soup.find('a', class_ = \"id-link\")\n",
    "    doi = content.get_text().strip()\n",
    "    return doi"
   ]
  },
  {
   "cell_type": "code",
   "execution_count": 18,
   "id": "3527959d",
   "metadata": {},
   "outputs": [
    {
     "name": "stdout",
     "output_type": "stream",
     "text": [
      "Enter your Query: covid in india\n"
     ]
    },
    {
     "data": {
      "text/plain": [
       "'https://pubmed.ncbi.nlm.nih.gov/?term=covid+in+india'"
      ]
     },
     "execution_count": 18,
     "metadata": {},
     "output_type": "execute_result"
    }
   ],
   "source": [
    "query = input(\"Enter your Query: \").strip()\n",
    "query_url = generate_query_url(query)\n",
    "query_url"
   ]
  },
  {
   "cell_type": "code",
   "execution_count": 19,
   "id": "2dbdc72b",
   "metadata": {},
   "outputs": [
    {
     "name": "stdout",
     "output_type": "stream",
     "text": [
      "<Response [200]>\n"
     ]
    }
   ],
   "source": [
    "# url = \"https://pubmed.ncbi.nlm.nih.gov/?term=covid\"\n",
    "response = requests.get(query_url)\n",
    "print(response)"
   ]
  },
  {
   "cell_type": "code",
   "execution_count": 20,
   "id": "9fee2ee3",
   "metadata": {},
   "outputs": [],
   "source": [
    "soup = BeautifulSoup(response.content, 'html.parser')\n",
    "content = soup.find_all('div', class_ = \"docsum-content\")"
   ]
  },
  {
   "cell_type": "code",
   "execution_count": 22,
   "id": "844fbaf4",
   "metadata": {},
   "outputs": [
    {
     "name": "stdout",
     "output_type": "stream",
     "text": [
      "{'36224705': {'paper_name': 'Long COVID following Omicron wave in Eastern India-A retrospective cohort study.', 'author': 'Arjun MC, Singh AK, Roy P, Ravichandran M, Mandal S, Pal D, Das K, Gajjala A, Venkateshan M, Mishra B, Patro BK, Mohapatra PR, Subba SH.', 'doi': 'PMC9874641', 'abstract': \"Long coronavirus disease (COVID) or postacute sequelae of coronavirus disease of 2019 (COVID-19) is widely reported but the data of long COVID after infection with the Omicron variant is limited. This study was conducted to estimate the incidence, characteristics of symptoms, and predictors of long COVID among COVID-19 patients diagnosed during the Omicron wave in Eastern India. The cohort of COVID-19 patients included were adults (≥18 years) diagnosed as severe acute respiratory syndrome coronavirus 2 positive with Reverse Transcription Polymerase Chain Reaction. After 28 days of diagnosis; participants were followed up with a telephonic interview to capture data on sociodemographic, clinical history, anthropometry, substance use, COVID-19 vaccination status, acute COVID-19 symptoms, and long COVID symptoms. The long COVID symptoms were self-reported by the participants. Logistic regression was used to determine the predictors of long COVID. The median follow-up of participants was 73 days (Interquartile range; 67-83). The final analysis had 524 participants' data; among them 8.2% (95% Confidence Interval [CI]: 6%-10.9%) self-reported long COVID symptoms. Fatigue (34.9%) was the most common reported symptom followed by cough (27.9%). In multivariable logistic regression only two predictors were statistically significant-number of acute COVID-19 symptoms ≥ five (Adjusted odds ratio (aOR) = 2.95, 95% CI: 1.30-6.71) and past history of COVID-19 (aOR = 2.66, 95% CI: 1.14-6.22). The proportion of self-reported long COVID is considerably low among COVID-19 patients diagnosed during the Omicron wave in Eastern India when compared with estimates during Delta wave in the same setting.\"}, '33109835': {'paper_name': 'Neurosurgery in India during COVID Times.', 'author': 'Misra BK.', 'doi': '10.4103/0028-3886.299142', 'abstract': None}, '33928197': {'paper_name': 'Childhood immunisations in India during the COVID-19 pandemic.', 'author': 'Shet A, Dhaliwal B, Banerjee P, DeLuca A, Carr K, Britto C, Seth R, Parekh B, Basavaraj GV, Shastri D, Gupta P.', 'doi': 'PMC8054093', 'abstract': None}, '34004526': {'paper_name': 'Resurgence of COVID-19 and diabetes in India.', 'author': 'Pal R, Bhadada SK, Misra A.', 'doi': 'PMC8102081', 'abstract': None}, '34666970': {'paper_name': 'Commercialisation of healthcare in India: Covid-19 and beyond.', 'author': 'Roy B.', 'doi': '10.20529/IJME.2021.044', 'abstract': \"This review of the government's policy during the pandemic flags a number of ethical concerns. The private healthcare sector's treatment of Covid-19 patients has generated mistrust and anger. However, the government has not held it accountable and instead commercialisation has subverted the pandemic needs. Government hospitals weakened by decades of cuts are exposed to internal reorganisation of services through the public-private partnership mechanism, a neoliberal policy that has persisted through the pandemic. There is a need to re-examine the government's policy reliance on scaling-up coverage through the private sector in the pandemic and after.\"}, '35282928': {'paper_name': 'COVID-19 vaccine preferences in India.', 'author': 'Bansal P, Raj A, Mani Shukla D, Sunder N.', 'doi': 'PMC8898737', 'abstract': \"India's mass vaccination efforts have been slow due to high levels of vaccine hesitancy. This study uses data from an online discrete choice experiment with 1371 respondents to rigorously examine the factors shaping vaccine preference in the country. We find that vaccine efficacy, presence of side effects, protection duration, distance to vaccination centre and vaccination rates within social network play a critical role in determining vaccine demand. We apply a non-parametric model to uncover heterogeneity in the effects of these factors. We derive two novel insights from this analysis. First, even though, on average, domestically developed vaccines are preferred, around 30% of the sample favours foreign-developed vaccines. Second, vaccine preference of around 15% of the sample is highly sensitive to the presence of side effects and vaccination uptake among their peer group. These results provide insights for the ongoing policy debate around vaccine adoption in India.\"}, '35355747': {'paper_name': 'Consecutive Hits of COVID-19 in India: The Mystery of Plummeting Cases and Current Scenario.', 'author': 'Suvvari TK, P C, Kuppili S, Kandi V, Kutikuppala LVS, Kandula VDK, Mishra S, Sarangi AK, Mohapatra RK, Dhama K.', 'doi': 'PMC8934068', 'abstract': 'The novel coronavirus disease 2019 (COVID-19)-related pandemic has been in existence for almost 2 years now after its possible emergence from a wet market in the city of Wuhan of the Chinese mainland. Evidence of the emergence and transmission of this virus was attributed to bats and pangolins. The causative virus, severe acute respiratory syndrome coronavirus-2 (SARS-CoV-2), has rapidly spread globally, affecting humans considerably with its current death toll to be over 4.7 million out of more than 233 confirmed cases as of September 2021. The virus is constantly mutating and continuously trying to establish itself in humans by increasing its transmissibility and virulence through its numerous emerging variants. Several countries have been facing multiple waves of COVID-19 outbreaks one after the other, putting the medical and healthcare establishments under tremendous stress. Although very few drugs and vaccines have been approved for emergency use, their production capabilities need to meet the needs of a huge global population. Currently, not even a quarter of the world population is vaccinated. The situation in India has worsened during the ongoing second wave with the involvement of virus variants with a rapid and huge surge in COVID-19 cases, where the scarcity of hospital infrastructure, antiviral agents, and oxygen has led to increased deaths. Recently, increased surveillance and monitoring, strengthening of medical facilities, campaigns of awareness programs, progressive vaccination drive, and high collaborative efforts have led to limiting the surge of COVID-19 cases in India to a low level. This review outlines the global status of the pandemic with special reference to the Indian scenario.'}, '34723355': {'paper_name': 'COVID-19 in India: A glimpse of pariah.', 'author': 'Raina M.', 'doi': '10.5055/jem.0535', 'abstract': \"This new year's wake-up call presaged us of a Democles' sword in the form of COVID-19, an epidemic turned pandemic. An infectious disease caused by a newly discovered coronavirus (COVID-19) seems to reach an innovative and horrendous landmark every day. The deadly coronavirus has made cataclysmic ruinations and sparked massive disruption to global travel and trade. Nobody had ever imagined that a universal, imperceptible, novel enemy of human race would emerge that would bring many parts of the society to a standstill. It has created an alarming situation across globe, and the world is responding to this novel virus with urgency and purpose. This article is a preface of COVID-19 in India.\"}, '33870417': {'paper_name': \"India's role in COVID-19 vaccine diplomacy.\", 'author': 'Sharun K, Dhama K.', 'doi': 'PMC8083264', 'abstract': 'Indian vaccine manufacturers such as Serum Institute of India, Bharat Biotech, Dr Reddy’s Laboratories, Biological E Limited, Aurobindo Pharma, and Indian Immunologicals have already secured the license to manufacture major vaccine candidates. The ability of the country to manufacture cost-effective COVID-19 vaccines will help to meet the global vaccine requirements.'}, '34234020': {'paper_name': 'COVID-19 Pandemic in India: Through the Lens of Modeling.', 'author': 'Babu GR, Ray D, Bhaduri R, Halder A, Kundu R, Menon GI, Mukherjee B.', 'doi': 'PMC8324184', 'abstract': \"We reflect on and review India's COVID-19 pandemic response through the lens of modeling and data. The lessons learned from the Indian context may be beneficial for other countries.\"}}\n"
     ]
    }
   ],
   "source": [
    "itemful = {}\n",
    "\n",
    "for item in content:\n",
    "    pmid = item.find(\"span\", class_=\"docsum-pmid\").text.strip()\n",
    "\n",
    "    itemful[pmid]={ \n",
    "        \"paper_name\":item.find(\"a\", class_=\"docsum-title\").text.strip(),\n",
    "        \"author\":item.find(\"span\", class_=\"docsum-authors full-authors\").text.strip(),\n",
    "        \"doi\" : to_get_doi(pmid),\n",
    "        \"abstract\": generate_abstract(pmid)\n",
    "    }\n",
    "\n",
    "print(itemful)\n"
   ]
  },
  {
   "cell_type": "code",
   "execution_count": null,
   "id": "35c9e680",
   "metadata": {},
   "outputs": [],
   "source": []
  },
  {
   "cell_type": "code",
   "execution_count": null,
   "id": "ff0c3279",
   "metadata": {},
   "outputs": [],
   "source": []
  },
  {
   "cell_type": "code",
   "execution_count": null,
   "id": "9d6e13ab",
   "metadata": {},
   "outputs": [],
   "source": []
  },
  {
   "cell_type": "code",
   "execution_count": null,
   "id": "3b68bec8",
   "metadata": {},
   "outputs": [],
   "source": []
  },
  {
   "cell_type": "code",
   "execution_count": null,
   "id": "55c3347b",
   "metadata": {},
   "outputs": [],
   "source": []
  },
  {
   "cell_type": "markdown",
   "id": "1a7307b9",
   "metadata": {},
   "source": [
    "#### ROUGH WORK"
   ]
  },
  {
   "cell_type": "code",
   "execution_count": 19,
   "id": "65d8c2c5",
   "metadata": {},
   "outputs": [
    {
     "name": "stdout",
     "output_type": "stream",
     "text": [
      "['https://pubmed.ncbi.nlm.nih.gov/35822579/', 'https://pubmed.ncbi.nlm.nih.gov/26772198/', 'https://pubmed.ncbi.nlm.nih.gov/20660880/', 'https://pubmed.ncbi.nlm.nih.gov/9208885/', 'https://pubmed.ncbi.nlm.nih.gov/27209095/', 'https://pubmed.ncbi.nlm.nih.gov/8698996/', 'https://pubmed.ncbi.nlm.nih.gov/29940346/', 'https://pubmed.ncbi.nlm.nih.gov/16895496/', 'https://pubmed.ncbi.nlm.nih.gov/10913413/', 'https://pubmed.ncbi.nlm.nih.gov/2200377/']\n"
     ]
    }
   ],
   "source": [
    "abs_urls =[]\n",
    "for pmid in itemful.keys():\n",
    "    abs_urls.append(\"https://pubmed.ncbi.nlm.nih.gov/\"+pmid+\"/\")  \n",
    "print(abs_urls)"
   ]
  },
  {
   "cell_type": "code",
   "execution_count": 12,
   "id": "cd801e1d",
   "metadata": {},
   "outputs": [
    {
     "name": "stdout",
     "output_type": "stream",
     "text": [
      "Enter your query: viral fever\n"
     ]
    },
    {
     "data": {
      "text/plain": [
       "'https://pubmed.ncbi.nlm.nih.gov/?term=viral+fever+'"
      ]
     },
     "execution_count": 12,
     "metadata": {},
     "output_type": "execute_result"
    }
   ],
   "source": [
    "user_input = input(\"Enter your query: \")\n",
    "input1 = user_input.split(\" \")\n",
    "url = \"https://pubmed.ncbi.nlm.nih.gov/?term=\"\n",
    "for txt in input1:\n",
    "    if len(input1)>1:\n",
    "        url = url+ txt + \"+\"\n",
    "    else:\n",
    "        url = url + txt\n",
    "    \n",
    "    \n",
    "url"
   ]
  },
  {
   "cell_type": "code",
   "execution_count": 10,
   "id": "bef331d3",
   "metadata": {},
   "outputs": [
    {
     "data": {
      "text/plain": [
       "'\\n    Skip to main page content\\n  '"
      ]
     },
     "execution_count": 10,
     "metadata": {},
     "output_type": "execute_result"
    }
   ],
   "source": [
    "url = \"https://pubmed.ncbi.nlm.nih.gov/35105985/\"\n",
    "response = requests.get(url)\n",
    "soup = BeautifulSoup(response.content, 'html.parser')\n",
    "# content = soup.find_all('div', class_=\"article-page\")\n",
    "doi = soup.a.get_text()\n",
    "doi"
   ]
  },
  {
   "cell_type": "code",
   "execution_count": 23,
   "id": "cfba0a81",
   "metadata": {},
   "outputs": [
    {
     "name": "stdout",
     "output_type": "stream",
     "text": [
      "Fever is an abnormal increase in body temperature that occurs as part of a specific biologic response mediated and controlled by the central nervous system. Despite the fact that most fevers are viral in origin, approaching a febrile child is always a concern for any physician. There is still a significant gap between current practice and scientific evidence. According to research, we are at a crossroad, with strong research evidence accumulating over the last few decades supporting a positive role for fever and the ongoing pressures of current practice to lower body temperature. Despite the fact that most pediatricians agree that treating a febrile child with antipyretics is primarily for the relief of fever symptoms, many continue to prescribe antipyretics for any child with fever, ignoring important research messages. By prescribing antipyretics to children who are only mildly febrile, pediatricians may contribute to fever phobia. We give parents the impression that fever is harmful and that antipyresis is beneficial when we focus on treating the fever. The purpose of this review is to present the evidence that is currently available regarding the management of the febrile child.\n",
      "\n",
      "Fever is a relatively common occurrence among patients in the intensive care setting. Although the most obvious and concerning etiology is sepsis, drug reactions, venous thromboembolism, and postsurgical fevers are all on the differential diagnosis. There is abundant evidence that fever is detrimental in acute neurologic injury. Worse outcomes are reported in acute stroke, subarachnoid hemorrhage, and traumatic brain injury. In addition to the various etiologies of fever in the intensive care setting, neurologic illness is a risk factor for neurogenic fevers. This primarily occurs in subarachnoid hemorrhage and traumatic brain injury, with hypothalamic injury being the proposed mechanism. Paroxysmal sympathetic hyperactivity is another source of hyperthermia commonly seen in the population with traumatic brain injury. This review focuses on the detrimental effects of fever on the neurologically injured as well as the risk factors and diagnosis of neurogenic fever.\n",
      "\n",
      "Fever is an active yet nonspecific response of the body to infections and other insults that cause immune cells to release cytokines, resulting in a brain prostanoid-mediated rise in body temperature. The causes, types, clinical management, and postoperative consequences of fever are reviewed in this article. Physicians use fever as a clinical sign for diagnoses and prognoses, but \"fevers of unknown origin\" continue to be problematic. Fevers that arise 1 or 2 days after surgery are usually due to stress and trauma, but later postoperative fevers often have more serious causes and consequences, such as wound infection. Fever is commonly encountered by podiatric physicians and surgeons, and certain procedures with the lower extremity are more likely to eventuate in fever.\n",
      "\n",
      "Measurement of body temperature is the most common clinical test performed. The presence of fever is accepted as a reliable indicator of either acute of chronic disease. Although the vast majority of fevers are caused by infectious agents, some solid tumors have fever as a presenting illness usually because of associated inflammation or infection secondary to the neoplasm. However, cancer cells can spontaneously produce cytokines, small proteins with multiple biological properties. Some cytokines released by neoplastic cells are pyrogenic, ie, they produce fever directly by their action on the hypothalamic thermoregulatory center. Examples of malignant cells producing pyrogenic cytokines are renal carcinoma, lymphomas, and acute myelogenous and chronic myelogenous leukemias. The pyrogenic cytokines released by these cancers are interleukin-6, interleukin-1, tumor necrosis factor, and interferon, but others likely exist. Antipyretics reduce fever regardless of its causation; some studies suggest that fever caused by pyrogenic cytokines released from malignancies is preferentially reduced by nonsteroidal anti-inflammatory agents.\n",
      "\n",
      "The incidence and likely causes of fever of unknown origin (FUO) have changed over the last few decades, largely because enhanced capabilities of laboratory testing and imaging have helped confirm earlier diagnoses. History and examination are still of paramount importance for cryptogenic infections. Adolescents who have persisting nonspecific complaints of fatigue sometimes are referred to Pediatric Infectious Diseases consultants for FUO because the problem began with an acute febrile illness or measured temperatures are misidentified as \"fevers\". A thorough history that reveals myriad symptoms when juxtaposed against normal findings on examination and simple laboratory testing can suggest a diagnosis of \"fatigue of deconditioning\". \"Treatment\" is forced return to school, and reconditioning. The management of patients with acute onset of fever without an obvious source or focus of infection is dependent on age. Infants under one month of age are at risk for serious and rapidly progressive bacterial and viral infections, and yet initially can have fever without other observable abnormalities. Urgent investigation and pre-emptive therapies usually are prudent. By two months of age, clinical judgment best guides management. Between one and two months of age, a decision to investigate or not depends on considerations of the height and duration of fever, the patient's observable behavior/interaction, knowledge of concurrent family illnesses, and likelihood of close observation and follow up. Children 6 months-36 months of age with acute onset of fever who appear well and have no observable focus of infection can be evaluated clinically, without laboratory investigation or antibiotic therapy, unless risk factors elevate the likelihood of urinary tract infection.\n",
      "\n",
      "Drug fever is the febrile response to a drug without cutaneous manifestations. Although the exact incidence of drug fever remains unknown, it has been estimated to occur in approximately 10% of inpatients. The recognition of drug fever is of great clinical importance because, if drug fever is not recognized diagnostically, patients may be subjected to prolonged hospitalization and unnecessary testing or medications. Early diagnosis and treatment of drug fevers are essential in maintaining cost-effective, high-quality medical care.\n",
      "\n",
      "None\n",
      "\n",
      "Background: Fever is common in surgical patients. The list of potential causes is long and includes many noninfective etiologies. Causes: Only about 40% of fever episodes in hospitalized patients are caused by infection. Any fever in a surgical patient is a cause for concern. New or continuing fever more than three days after surgery should raise a strong suspicion of persistent illness or a new complication. On rare occasions, these fevers can be attributed to potentially life-threatening occult infections, including acute cholecystitis, antibiotic-related pseudomembranous colitis, systemic candidiasis, or transfusion-related cytomegalovirus disease. A change in the microbiology of postoperative infections has also been noticed, characterized by a greater incidence of infections caused by methicillin-resistant Staphylococcus aureus, by polymicrobial flora, and by fungi. Treatment: Control of nosocomial infections has become more challenging recently because of widespread bacterial resistance to antibiotics and to more frequent surgical indications in elderly patients at higher risk. Early recognition and appropriate treatment of these infections relieves anxiety, reduces hospital costs, and increases patient survival rates. Conclusions: The workup and therapy for the individual patient may differ, depending on the underlying disease and clinical appearance and the clinician's suspicion for infection. Subsequent testing should be based on the clinical findings. Perhaps more money is wasted in the evaluation of early postoperative fever than on any other aspect of postoperative care.\n",
      "\n",
      "Infections in the elderly, similar to other acute illnesses in this age group, may present in atypical, nonclassical fashions. Fever, the cardinal sign of infection, may be absent or blunted 20%-30% of the time. An absent or blunted fever response may in turn contribute to diagnostic delays in this population, which is already at risk for increased morbidity and mortality due to infection. On the other hand, the presence of a fever in the geriatric patient is more likely to be associated with a serious viral or bacterial infection than is fever in a younger patient. Finally, a diagnosis can be made in the majority of cases of fever of unknown origin (FUO) in the elderly. FUO is often associated with treatable conditions in this age group.\n",
      "\n"
     ]
    },
    {
     "name": "stdout",
     "output_type": "stream",
     "text": [
      "While understanding of the mechanisms of fever has progressed in recent years, much uncertainty remains as to whether fever in itself (as distinct from its cause) is beneficial or harmful, and what circumstances warrant antipyretic therapy. This review was designed to identify studies providing information on the effects of fever and of pharmacologic and physical therapy. Fever or analogous behavioral thermal upregulation apparently has positive effects on defense against infection in some animal models. Retrospective studies in humans suggest that failure to mount a febrile response is associated with poor outcome in certain infections but do not establish a causal relationship. Induction of fever apparently had therapeutic value in infections such as syphilis before specific antimicrobials were developed. Fever may have deleterious effects in the context of borderline cardiovascular or neurologic function or pregnancy, but data in most instances cannot separate effects of fever per se from that of underlying disease. Antipyretic drugs are effective in diminishing fever, but they have significant side effects and may suppress signs of ongoing infection. Physical cooling is important when physiologic thermoregulatory mechanisms are overwhelmed, but may sometimes increase discomfort and metabolic stress in fever. Antipyretic therapy should not be instituted routinely for every febrile episode but should be based on evaluation of relative risks in the individual case and reassessed if anticipated benefits are not achieved.\n",
      "\n"
     ]
    }
   ],
   "source": [
    "# url = \"https://pubmed.ncbi.nlm.nih.gov/35163638/\"\n",
    "for abs_url in abs_urls:\n",
    "    response = requests.get(abs_url)\n",
    "    try:\n",
    "        soup = BeautifulSoup(response.content, 'html.parser')\n",
    "        content = soup.find_all('div', class_=\"full-view\")\n",
    "        abstract = content[0].find(\"div\", class_=\"abstract-content selected\").text.strip()\n",
    "        abstract = \" \".join(abstract.split())\n",
    "    except:\n",
    "        abstract = None\n",
    "        \n",
    "    print(abstract)\n",
    "    print()"
   ]
  },
  {
   "cell_type": "code",
   "execution_count": 2,
   "id": "ef2532f8",
   "metadata": {},
   "outputs": [],
   "source": [
    "# for i in range(1,10,1):\n",
    "#     url = \"https://pubmed.ncbi.nlm.nih.gov/?term=covid\"+i.__str__()\n",
    "#     response = requests.get(url)"
   ]
  },
  {
   "cell_type": "code",
   "execution_count": 29,
   "id": "506b502a",
   "metadata": {},
   "outputs": [
    {
     "name": "stdout",
     "output_type": "stream",
     "text": [
      "The world continues to contend with successive waves of coronavirus disease 2019 (COVID-19), fueled by the emergence of viral variants. At the same time, persistent, prolonged and often debilitating sequelae are increasingly recognized in convalescent individuals, named 'post-COVID-19 syndrome' or 'long-haul COVID'. Clinical symptomatology includes fatigue, malaise, dyspnea, defects in memory and concentration and a variety of neuropsychiatric syndromes as the major manifestations, and several organ systems can be involved. The underlying pathophysiological mechanisms are poorly understood at present. This Review details organ-specific sequelae of post-COVID-19 syndromes and examines the underlying pathophysiological mechanisms available so far, elaborating on persistent inflammation, induced autoimmunity and putative viral reservoirs. Finally, we propose diagnostic strategies to better understand this heterogeneous disorder that continues to afflict millions of people worldwide.\n",
      "\n",
      "Severe acute respiratory syndrome coronavirus 2 (SARS-CoV-2) is a highly transmissible and pathogenic coronavirus that emerged in late 2019 and has caused a pandemic of acute respiratory disease, named 'coronavirus disease 2019' (COVID-19), which threatens human health and public safety. In this Review, we describe the basic virology of SARS-CoV-2, including genomic characteristics and receptor use, highlighting its key difference from previously known coronaviruses. We summarize current knowledge of clinical, epidemiological and pathological features of COVID-19, as well as recent progress in animal models and antiviral treatment approaches for SARS-CoV-2 infection. We also discuss the potential wildlife hosts and zoonotic origin of this emerging virus in detail.\n",
      "\n",
      "The review aims to consolidate research findings on the molecular mechanisms and virulence and pathogenicity characteristics of coronavirus disease (COVID-19) causative agent, severe acute respiratory syndrome coronavirus 2 (SARS-CoV-2), and their relevance to four typical stages in the development of acute viral infection. These four stages are invasion; primary blockade of antiviral innate immunity; engagement of the virus's protection mechanisms against the factors of adaptive immunity; and acute, long-term complications of COVID-19. The invasion stage entails the recognition of the spike protein (S) of SARS-CoV-2 target cell receptors, namely, the main receptor (angiotensin-converting enzyme 2, ACE2), its coreceptors, and potential alternative receptors. The presence of a diverse repertoire of receptors allows SARS-CoV-2 to infect various types of cells, including those not expressing ACE2. During the second stage, the majority of the polyfunctional structural, non-structural, and extra proteins SARS-CoV-2 synthesizes in infected cells are involved in the primary blockage of antiviral innate immunity. A high degree of redundancy and systemic action characterizing these pathogenic factors allows SARS-CoV-2 to overcome antiviral mechanisms at the initial stages of invasion. The third stage includes passive and active protection of the virus from factors of adaptive immunity, overcoming of the barrier function at the focus of inflammation, and generalization of SARS-CoV-2 in the body. The fourth stage is associated with the deployment of variants of acute and long-term complications of COVID-19. SARS-CoV-2's ability to induce autoimmune and autoinflammatory pathways of tissue invasion and development of both immunosuppressive and hyperergic mechanisms of systemic inflammation is critical at this stage of infection.\n",
      "\n",
      "Coronavirus disease 2019 (COVID-19) is an infectious disease caused by coronavirus-2 (SARS-CoV-2) that causes a severe acute respiratory syndrome, a characteristic hyperinflammatory response, vascular damage, microangiopathy, angiogenesis and widespread thrombosis. Four stages of COVID-19 have been identified: the first stage is characterised by upper respiratory tract infection; the second by the onset of dyspnoea and pneumonia; the third by a worsening clinical scenario dominated by a cytokine storm and the consequent hyperinflammatory state; and the fourth by death or recovery. Currently, no treatment can act specifically against the SARS-CoV-2 infection. Based on the pathological features and different clinical phases of COVID-19, particularly in patients with moderate to severe COVID-19, the classes of drugs used are antiviral agents, inflammation inhibitors/antirheumatic drugs, low molecular weight heparins, plasma, and hyperimmune immunoglobulins. During this emergency period of the COVID-19 outbreak, clinical researchers are using and testing a variety of possible treatments. Based on these premises, this review aims to discuss the most updated pharmacological treatments to effectively act against the SARS-CoV-2 infection and support researchers and clinicians in relation to any current and future developments in curing COVID-19 patients.\n",
      "\n",
      "Background:\n",
      "        \n",
      "      \n",
      "      At the end of December 2019, a novel coronavirus tentatively named SARS-CoV-2 in Wuhan, a central city in China, was announced by the World Health Organization. SARS-CoV-2 is an RNA virus that has become a major public health concern after the outbreak of the Middle East Respiratory Syndrome-CoV (MERS-CoV) and Severe Acute Respiratory Syndrome-CoV (SARS-CoV) in 2002 and 2012, respectively. As of 29 October 2020, the total number of COVID-19 cases had reached over 44 million worldwide, with more than 1.17 million confirmed deaths.\n",
      "    \n",
      "\n",
      "\n",
      "          Discussion:\n",
      "        \n",
      "      \n",
      "      SARS-CoV-2 infected patients usually present with severe viral pneumonia. Similar to SARS-CoV, the virus enters respiratory tract cells via the angiotensin-converting enzyme receptor 2. The structural proteins play an essential role in budding the virus particles released from different host cells. To date, an approved vaccine or treatment option of a preventive character to avoid severe courses of COVID-19 is still not available.\n",
      "    \n",
      "\n",
      "\n",
      "          Conclusions:\n",
      "        \n",
      "      \n",
      "      In the present study, we provide a brief review of the general biological features of CoVs and explain the pathogenesis, clinical symptoms and diagnostic approaches regarding monitoring future infectivity and prevent emerging COVID-19 infections.\n",
      "\n",
      "Severe acute respiratory syndrome coronavirus 2 (SARS-CoV-2), the causative pathogen of the coronavirus disease 2019 (COVID-19), has caused more than 179 million infections and 3.8 million deaths worldwide. Throughout the past year, multiple vaccines have already been developed and used, while some others are in the process of being developed. However, the emergence of new mutant strains of SARS-CoV-2 that have demonstrated immune-evading characteristics and an increase in infective capabilities leads to potential ineffectiveness of the vaccines against these variants. The purpose of this review article is to highlight the current understanding of the immunological mechanisms of the virus and vaccines, as well as to investigate some key variants and mutations of the virus driving the current pandemic and their impacts on current management guidelines. We also discussed new technologies being developed for the prevention, treatment, and detection of SARS-CoV-2. In this paper, we thoroughly reviewed and provided crucial information on SARS-CoV-2 virology, vaccines and drugs being used and developed for its prevention and treatment, as well as important variant strains. Our review paper will be beneficial to health care professionals and researchers so they can have a better understanding of the basic sciences, prevention, and clinical treatment of COVID-19 during the pandemic. This paper consists of the most updated information that has been available as of June 21, 2021.\n",
      "\n",
      "Coronavirus disease 2019 (COVID-19), caused by severe acute respiratory syndrome coronavirus 2 (SARS-CoV-2), has led to a pandemic since March 2020. The exact pathogenesis of SARS-CoV-2 and the role of each component of the innate and adaptive immune system is still unknown. However, available data from other coronavirus families, such as SARS-CoV and the Middle East respiratory syndrome and also new findings could be useful for a better understanding of SARS-CoV-2. Toll-like receptors (TLR) play an important role in recognition of viral particles and activation of the innate immune system. Activation of TLR pathways leads to secretion of pro-inflammatory cytokines, such as interleukin-1 (IL-1), IL-6, and tumor necrosis factor-α, as well as type 1 interferon. Different TLRs, like TLR2, TLR3, TLR4, TLR6, TLR7, TLR8, and TLR9 are potentially important in COVID-19 infection. It is also worth mentioning that we should bear in mind both the beneficial and harmful effects of TLR in confronting COVID-19 infection. TLRs could be a potential target in controlling the infection in the early stages of disease and production of vaccine against SARS-CoV-2.\n",
      "\n"
     ]
    },
    {
     "name": "stdout",
     "output_type": "stream",
     "text": [
      "An acute respiratory disease caused by a severe acute respiratory syndrome coronavirus 2 (SARS-CoV-2) that surfaced in China in late 2019, continues to spread rapidly across the globe causing serious concerns. The coronavirus disease 2019 (COVID-19) is declared as a public health emergency worldwide by the World Health Organization (WHO). Increasing evidences have demonstrated human-to-human transmission that primarily affects the upper respiratory tract followed by lower respiratory tract damage leading to severe pneumonia. Based on the current status, the elderly population and people with prior co-morbidities are highly susceptible to serious health effects including cytokine up-regulation and acute respiratory distress syndrome (ARDS). Currently, COVID-19 research is still in the preliminary stage necessitating rigorous studies. There is no specific drug or vaccine targeting SARS-CoV-2 currently and only symptomatic treatment is being administered, but several antivirals are under active investigation. In this review, we have summarized the epidemiology, entry mechanism, immune response, and therapeutic implications, possible drug targets, their ongoing clinical trials, and put forward vital questions to offer new directions to the COVID-19 research.\n",
      "\n",
      "Novel coronavirus SARS-CoV-2, designated as COVID-19 by the World Health Organization (WHO) on the February 11, 2020, is one of the highly pathogenic β-coronaviruses which infects human. Early diagnosis of COVID-19 is the most critical step to treat infection. The diagnostic tools are generally molecular methods, serology and viral culture. Recently CRISPR-based method has been investigated to diagnose and treat coronavirus infection. The emergence of 2019-nCoV during the influenza season, has led to the extensive use of antibiotics and neuraminidase enzyme inhibitors, taken orally and intravenously. Currently, antiviral inhibitors of SARS and MERS spike proteins, neuraminidase inhibitors, anti-inflammatory drugs and EK1 peptide are the available therapeutic options for SARS-CoV-2 infected individuals. In addition, Chloroquine, which was previously used for malarial and autoimmune disease, has shown efficacy in the 2019-nCoV infection treatment. In severe hypoxaemia, a combination of antibiotics, α-interferon, lopinavir and mechanical ventilation can effectively mitigate the symptoms. Comprehensive knowledge on the innate and adaptive immune responses, will make it possible to propose potent antiviral drugs with their effective therapeutic measures for the prevention of viral infection. This therapeutic strategy will help patients worldwide to protect themselves against severe and fatal viral infections, that potentially can evolve and develop drug resistance, and to reduce mortality rates.\n",
      "\n",
      "A novel strain of Severe Acute Respiratory Syndrome Coronavirus 2 (SARS-CoV-2) disease (COVID-19) has been recently identified as an infectious disease affecting the respiratory system of humans. This disease is caused by SARS-CoV-2 that was identified in Chinese patients having severe pneumonia and flu-like symptoms. COVID-19 is a contagious disease that spreads rapidly via droplet particles arising through sneezing and coughing action of an infected person. The reports of asymptomatic carriers changed the scenario of symptom based-diagnosis in COVID-19 and intensified the need for proper diagnosis of the majority of the population to combat the rapid transmission of virus. The diagnosis of positive cases is necessary to ensure prompt care to affected people and also to curb further spread of infection in the population. Collecting samples at the right time and from the exact anatomical site is crucial for proper molecular diagnosis. After the complete genome sequence was available, China formulated RT-PCR as a primary diagnostic procedure for detecting SARS-CoV-2. Many in-house and commercial diagnostic kits have been developed or are under development that have a potential to lower the burden of diagnosis on the primary diagnostic techniques like RT-PCR. Serological based diagnosis is another broad category of testing that can detect different serum antibodies like IgG, IgM, and IgA in an infected patient. PCR-based diagnostic procedures that are commonly used for pathogen detection need sophisticated machines and assistance of a technical expert. Despite their reliable accuracy, they are not cost-effective tests, which a common man can afford, so it becomes imperative to look for other diagnostic approaches, which could be cost effective, rapid, and sensitive with consistent accuracy. To make such diagnostics available to the common man, many techniques can be exploited among, which are Point of Care (POC), also known as bed side testing, which is developing as a portable and promising tool in pathogen diagnosis. Other lateral flow assay (LFA)-based techniques like SHERLOCK, CRISPR-Cas12a (AIOD-CRISPR), and FNCAS9 editor-limited uniform detection assay (FELUDA), etc. have shown promising results in rapid detection of pathogens. Diagnosis holds a critical importance in the pandemic situation when there is no potential drug for the pathogen available in the market. This review sums up the different diagnostic approaches designed or proposed to combat the crisis of widespread diagnosis due to the sudden outbreak of a novel pathogen, SARS-CoV-2 in 2019.\n",
      "\n"
     ]
    }
   ],
   "source": [
    "for j in abs_urls:\n",
    "#     print(url)\n",
    "    response = requests.get(j)\n",
    "#     print(respone)\n",
    "    soup = BeautifulSoup(response.content, 'html.parser')\n",
    "#     print(soup)\n",
    "    content = soup.find_all('div', class_ = \"article-page\")\n",
    "#     print(content)\n",
    "    abstract = content[0].find(\"div\", class_=\"abstract-content selected\").text.strip()\n",
    "    print(abstract)\n",
    "    print()"
   ]
  },
  {
   "cell_type": "code",
   "execution_count": 22,
   "id": "67af9c8e",
   "metadata": {},
   "outputs": [
    {
     "ename": "AttributeError",
     "evalue": "'NoneType' object has no attribute 'text'",
     "output_type": "error",
     "traceback": [
      "\u001b[1;31m---------------------------------------------------------------------------\u001b[0m",
      "\u001b[1;31mAttributeError\u001b[0m                            Traceback (most recent call last)",
      "\u001b[1;32m<ipython-input-22-b75fe81ce5e5>\u001b[0m in \u001b[0;36m<module>\u001b[1;34m\u001b[0m\n\u001b[0;32m      2\u001b[0m \u001b[0msoup\u001b[0m \u001b[1;33m=\u001b[0m \u001b[0mBeautifulSoup\u001b[0m\u001b[1;33m(\u001b[0m\u001b[0mresponse\u001b[0m\u001b[1;33m.\u001b[0m\u001b[0mcontent\u001b[0m\u001b[1;33m,\u001b[0m \u001b[1;34m'html.parser'\u001b[0m\u001b[1;33m)\u001b[0m\u001b[1;33m\u001b[0m\u001b[1;33m\u001b[0m\u001b[0m\n\u001b[0;32m      3\u001b[0m \u001b[0mcontent\u001b[0m \u001b[1;33m=\u001b[0m \u001b[0msoup\u001b[0m\u001b[1;33m.\u001b[0m\u001b[0mfind_all\u001b[0m\u001b[1;33m(\u001b[0m\u001b[1;34m'div'\u001b[0m\u001b[1;33m,\u001b[0m \u001b[0mclass_\u001b[0m\u001b[1;33m=\u001b[0m\u001b[1;34m\"article-page\"\u001b[0m\u001b[1;33m)\u001b[0m\u001b[1;33m\u001b[0m\u001b[1;33m\u001b[0m\u001b[0m\n\u001b[1;32m----> 4\u001b[1;33m \u001b[0mabstract\u001b[0m \u001b[1;33m=\u001b[0m \u001b[0mcontent\u001b[0m\u001b[1;33m[\u001b[0m\u001b[1;36m0\u001b[0m\u001b[1;33m]\u001b[0m\u001b[1;33m.\u001b[0m\u001b[0mfind\u001b[0m\u001b[1;33m(\u001b[0m\u001b[1;34m\"div\"\u001b[0m\u001b[1;33m,\u001b[0m \u001b[0mclass_\u001b[0m\u001b[1;33m=\u001b[0m\u001b[1;34m\"abstract-content selected\"\u001b[0m\u001b[1;33m)\u001b[0m\u001b[1;33m.\u001b[0m\u001b[0mtext\u001b[0m\u001b[1;33m.\u001b[0m\u001b[0mstrip\u001b[0m\u001b[1;33m(\u001b[0m\u001b[1;33m)\u001b[0m\u001b[1;33m\u001b[0m\u001b[1;33m\u001b[0m\u001b[0m\n\u001b[0m\u001b[0;32m      5\u001b[0m \u001b[0mabstract\u001b[0m\u001b[1;33m=\u001b[0m \u001b[1;34m\" \"\u001b[0m\u001b[1;33m.\u001b[0m\u001b[0mjoin\u001b[0m\u001b[1;33m(\u001b[0m\u001b[0mabstract\u001b[0m\u001b[1;33m.\u001b[0m\u001b[0msplit\u001b[0m\u001b[1;33m(\u001b[0m\u001b[1;33m)\u001b[0m\u001b[1;33m)\u001b[0m\u001b[1;33m\u001b[0m\u001b[1;33m\u001b[0m\u001b[0m\n\u001b[0;32m      6\u001b[0m \u001b[0mprint\u001b[0m\u001b[1;33m(\u001b[0m\u001b[0mabstract\u001b[0m\u001b[1;33m)\u001b[0m\u001b[1;33m\u001b[0m\u001b[1;33m\u001b[0m\u001b[0m\n",
      "\u001b[1;31mAttributeError\u001b[0m: 'NoneType' object has no attribute 'text'"
     ]
    }
   ],
   "source": [
    "response = requests.get(\"https://pubmed.ncbi.nlm.nih.gov/29940346/\")\n",
    "soup = BeautifulSoup(response.content, 'html.parser')\n",
    "content = soup.find_all('div', class_=\"article-page\")\n",
    "abstract = content[0].find(\"div\", class_=\"abstract-content selected\").text.strip()\n",
    "abstract= \" \".join(abstract.split())\n",
    "print(abstract)\n",
    "# print()"
   ]
  },
  {
   "cell_type": "code",
   "execution_count": 42,
   "id": "a9ffe4bc",
   "metadata": {},
   "outputs": [
    {
     "data": {
      "text/plain": [
       "'Background:\\n        \\n      \\n      At the end of December 2019, a novel coronavirus tentatively named SARS-CoV-2 in Wuhan, a central city in China, was announced by the World Health Organization. SARS-CoV-2 is an RNA virus that has become a major public health concern after the outbreak of the Middle East Respiratory Syndrome-CoV (MERS-CoV) and Severe Acute Respiratory Syndrome-CoV (SARS-CoV) in 2002 and 2012, respectively. As of 29 October 2020, the total number of COVID-19 cases had reached over 44 million worldwide, with more than 1.17 million confirmed deaths.\\n    \\n\\n\\n          Discussion:\\n        \\n      \\n      SARS-CoV-2 infected patients usually present with severe viral pneumonia. Similar to SARS-CoV, the virus enters respiratory tract cells via the angiotensin-converting enzyme receptor 2. The structural proteins play an essential role in budding the virus particles released from different host cells. To date, an approved vaccine or treatment option of a preventive character to avoid severe courses of COVID-19 is still not available.\\n    \\n\\n\\n          Conclusions:\\n        \\n      \\n      In the present study, we provide a brief review of the general biological features of CoVs and explain the pathogenesis, clinical symptoms and diagnostic approaches regarding monitoring future infectivity and prevent emerging COVID-19 infections.'"
      ]
     },
     "execution_count": 42,
     "metadata": {},
     "output_type": "execute_result"
    }
   ],
   "source": [
    "abstract"
   ]
  },
  {
   "cell_type": "code",
   "execution_count": 46,
   "id": "db8734b1",
   "metadata": {},
   "outputs": [
    {
     "data": {
      "text/plain": [
       "'Background: At the end of December 2019'"
      ]
     },
     "execution_count": 46,
     "metadata": {},
     "output_type": "execute_result"
    }
   ],
   "source": [
    "a = \"Background:\\n        \\n      \\n      At the end of December 2019\"\n",
    "\" \".join(a.split())"
   ]
  },
  {
   "cell_type": "code",
   "execution_count": 47,
   "id": "6b9b59ed",
   "metadata": {},
   "outputs": [
    {
     "data": {
      "text/plain": [
       "'Background: At the end of December 2019, a novel coronavirus tentatively named SARS-CoV-2 in Wuhan, a central city in China, was announced by the World Health Organization. SARS-CoV-2 is an RNA virus that has become a major public health concern after the outbreak of the Middle East Respiratory Syndrome-CoV (MERS-CoV) and Severe Acute Respiratory Syndrome-CoV (SARS-CoV) in 2002 and 2012, respectively. As of 29 October 2020, the total number of COVID-19 cases had reached over 44 million worldwide, with more than 1.17 million confirmed deaths. Discussion: SARS-CoV-2 infected patients usually present with severe viral pneumonia. Similar to SARS-CoV, the virus enters respiratory tract cells via the angiotensin-converting enzyme receptor 2. The structural proteins play an essential role in budding the virus particles released from different host cells. To date, an approved vaccine or treatment option of a preventive character to avoid severe courses of COVID-19 is still not available. Conclusions: In the present study, we provide a brief review of the general biological features of CoVs and explain the pathogenesis, clinical symptoms and diagnostic approaches regarding monitoring future infectivity and prevent emerging COVID-19 infections.'"
      ]
     },
     "execution_count": 47,
     "metadata": {},
     "output_type": "execute_result"
    }
   ],
   "source": [
    "# abstract\n",
    "abstract_new = \" \".join(abstract.split())\n",
    "abstract_new\n"
   ]
  },
  {
   "cell_type": "code",
   "execution_count": 41,
   "id": "2a213cf8",
   "metadata": {},
   "outputs": [
    {
     "name": "stdout",
     "output_type": "stream",
     "text": [
      "HelloWorldThisisamultilinestringwithmultiplespaces.\n"
     ]
    }
   ],
   "source": [
    "import re\n",
    "\n",
    "original_string = \"Hello  World  This is a  multiline    string    with    multiple    spaces.\"\n",
    "processed_string = re.sub(' +', '', original_string)  # Replace consecutive spaces with an empty string\n",
    "\n",
    "print(processed_string)\n"
   ]
  },
  {
   "cell_type": "code",
   "execution_count": 9,
   "id": "81a73302",
   "metadata": {},
   "outputs": [
    {
     "name": "stdout",
     "output_type": "stream",
     "text": [
      "['33053381', 'Treatment for COVID-19: An overview.', 'Stasi C, Fallani S, Voller F, Silvestri C.', 'Coronavirus disease 2019 (COVID-19) is an infectious disease caused by coronavirus-2 (SARS-CoV-2) that causes a severe acute respiratory syndrome, a characteristic hyperinflammatory response, vascular damage, microangiopathy, angiogenesis …']\n",
      "['33307513', 'COVID-19 and cancer: From basic mechanisms to vaccine development using nanotechnology.', 'Han HJ, Nwagwu C, Anyim O, Ekweremadu C, Kim S.', 'Coronavirus disease 2019 (COVID-19), caused by severe acute respiratory syndrome coronavirus 2 (SARS-CoV-2), is a global pandemic which has induced unprecedented ramifications, severely affecting our society due to the long incubation tim …']\n",
      "['35105985', 'Pathological sequelae of long-haul COVID.', 'Mehandru S, Merad M.', 'The world continues to contend with successive waves of coronavirus disease 2019 (COVID-19), fueled by the emergence of viral variants. At the same time, persistent, prolonged and often debilitating sequelae are increasingly recognized in convalescent individuals, n …']\n",
      "['33506952', 'Role of Toll-like receptors in the pathogenesis of COVID-19.', 'Khanmohammadi S, Rezaei N.', 'Coronavirus disease 2019 (COVID-19), caused by severe acute respiratory syndrome coronavirus 2 (SARS-CoV-2), has led to a pandemic since March 2020. ...However, available data from other coronavirus families, such as SARS-CoV …']\n",
      "['33305456', 'COVID-19: Virology, biology and novel laboratory diagnosis.', 'Mohamadian M, Chiti H, Shoghli A, Biglari S, Parsamanesh N, Esmaeilzadeh A.', 'SARS-CoV-2 is an RNA virus that has become a major public health concern after the outbreak of the Middle East Respiratory Syndrome-CoV (MERS-CoV) and Severe Acute Respiratory Syndrome-CoV (SARS-CoV) in 2002 and 2012, respec …']\n",
      "['33244462', 'An Update on Molecular Diagnostics for COVID-19.', 'Islam KU, Iqbal J.', 'A novel strain of Severe Acute Respiratory Syndrome Coronavirus 2 (SARS-CoV-2) disease (COVID-19) has been recently identified as an infectious disease affecting the respiratory system of humans. This disease is caused by SARS-C …']\n",
      "['33435929', 'Insights to SARS-CoV-2 life cycle, pathophysiology, and rationalized treatments that target COVID-19 clinical complications.', 'Trougakos IP, Stamatelopoulos K, Terpos E, Tsitsilonis OE, Aivalioti E, Paraskevis D, Kastritis E, Pavlakis GN, Dimopoulos MA.', 'BACKGROUND: Gaining further insights into SARS-CoV-2 routes of infection and the underlying pathobiology of COVID-19 will support the design of rational treatments targeting the life cycle of the virus and/or the adverse effects (e.g., multi-org …']\n",
      "['33617700', 'COVID-19 and neurology perspective.', 'Singh S, Ahirwar AK, Asia P, Gopal N, Kaim K, Ahirwar P.', 'COVID-19 caused by SARS CoV2 (The novel corona virus) has already taken lives of many people across the globe even more than anyone could have imagined. ...When a person is infected the clinical presentation ranges from asymptomatic to severe ARDS, sudden ons …']\n",
      "['33010669', 'The novel coronavirus Disease-2019 (COVID-19): Mechanism of action, detection and recent therapeutic strategies.', 'Seyed Hosseini E, Riahi Kashani N, Nikzad H, Azadbakht J, Hassani Bafrani H, Haddad Kashani H.', 'Novel coronavirus SARS-CoV-2, designated as COVID-19 by the World Health Organization (WHO) on the February 11, 2020, is one of the highly pathogenic beta-coronaviruses which infects human. ...The emergence of 2019-nCoV during the influenza seas …']\n",
      "['33666147', 'Lessons learned 1 year after SARS-CoV-2 emergence leading to COVID-19 pandemic.', 'To KK, Sridhar S, Chiu KH, Hung DL, Li X, Hung IF, Tam AR, Chung TW, Chan JF, Zhang AJ, Cheng VC, Yuen KY.', 'Without modern medical management and vaccines, the severity of the Coronavirus Disease 2019 (COVID-19) pandemic caused by severe acute respiratory syndrome (SARS) coronavirus 2 (SARS-CoV-2) might approach the magnitude of 1894-pla …']\n"
     ]
    }
   ],
   "source": [
    "itemful = []\n",
    "\n",
    "for item in content:\n",
    "    items = []\n",
    "    pmid = item.find(\"span\", class_=\"docsum-pmid\")\n",
    "    paper_name = item.find(\"a\", class_=\"docsum-title\")\n",
    "    author = item.find(\"span\", class_=\"docsum-authors full-authors\")\n",
    "    abstract = item.find(\"div\", class_=\"full-view-snippet\")\n",
    "    \n",
    "    if paper_name and author:\n",
    "        items.append(pmid.text.strip())\n",
    "        items.append(paper_name.text.strip())\n",
    "        items.append(author.text.strip())\n",
    "        items.append(abstract.text.strip())\n",
    "        \n",
    "        itemful.append(items)\n",
    "\n",
    "for items in itemful:\n",
    "    print(items)"
   ]
  },
  {
   "cell_type": "code",
   "execution_count": 49,
   "id": "6da5fa1a",
   "metadata": {},
   "outputs": [
    {
     "name": "stdout",
     "output_type": "stream",
     "text": [
      "{'paper_name': 'An Update on Molecular Diagnostics for COVID-19.', 'author': 'Islam KU, Iqbal J.', 'abstract': 'A novel strain of Severe Acute Respiratory Syndrome Coronavirus 2 (SARS-CoV-2) disease (COVID-19) has been recently identified as an infectious disease affecting the respiratory system of humans. This disease is caused by SARS-C …'}\n"
     ]
    }
   ],
   "source": [
    "itemful = {}\n",
    "\n",
    "for item in content:\n",
    "    pmid = item.find(\"span\", class_=\"docsum-pmid\").text.strip()\n",
    "    paper_name = item.find(\"a\", class_=\"docsum-title\").text.strip()\n",
    "    author = item.find(\"span\", class_=\"docsum-authors full-authors\").text.strip()\n",
    "#     abstract = item.find(\"div\", class_=\"full-view-snippet\").text.strip()\n",
    "    \n",
    "    itemful[pmid]={\n",
    "        \"paper_name\":paper_name,\n",
    "        \"author\":author\n",
    "    }\n",
    "\n",
    "print(itemful[\"33244462\"])"
   ]
  },
  {
   "cell_type": "code",
   "execution_count": 12,
   "id": "041a86b2",
   "metadata": {},
   "outputs": [
    {
     "name": "stdout",
     "output_type": "stream",
     "text": [
      "10.1016/j.cmi.2018.06.018\n"
     ]
    }
   ],
   "source": [
    "url = \"https://pubmed.ncbi.nlm.nih.gov/29940346/\"\n",
    "\n",
    "response = requests.get(url)\n",
    "soup = BeautifulSoup(response.content, 'html.parser')\n",
    "content = soup.find('a', class_ = \"id-link\")\n",
    "link_text = content.get_text().strip()\n",
    "print(link_text)"
   ]
  },
  {
   "cell_type": "code",
   "execution_count": 3,
   "id": "d8a5a791",
   "metadata": {},
   "outputs": [
    {
     "data": {
      "text/plain": [
       "[<div class=\"full-view\">\n",
       " <h3 class=\"title\">\n",
       "         Full text links\n",
       "       </h3>\n",
       " <div class=\"full-text-links-list\">\n",
       " <a class=\"link-item dialog-focus\" data-ga-action=\"Elsevier Science\" data-ga-category=\"full_text\" data-ga-label=\"29940346\" href=\"https://linkinghub.elsevier.com/retrieve/pii/S1198-743X(18)30483-X\" ref=\"linksrc=fulltextorjournal_fulltext&amp;is_pmc=False&amp;PrId=3048&amp;itool=Abstract-def&amp;log$=linkouticon&amp;uid=29940346&amp;db=pubmed&amp;nlmid=9516420\" rel=\"noopener\" target=\"_blank\" title=\"See full text options at Elsevier Science\"><img alt=\"full text provider logo\" src=\"https://cdn.ncbi.nlm.nih.gov/corehtml/query/egifs/https:--linkinghub.elsevier.com-ihub-images-elsevieroa.png\"/><span class=\"text\">\n",
       "             \n",
       "               Elsevier Science\n",
       "             \n",
       "           </span></a>\n",
       " </div>\n",
       " </div>,\n",
       " <div class=\"full-view\">\n",
       " <h3 class=\"title\">\n",
       "       Page navigation\n",
       "     </h3>\n",
       " <ul class=\"items-list\">\n",
       " <li class=\"heading\">\n",
       " <a aria-label=\"navigate to Title &amp; authors section\" data-ga-action=\"heading\" data-ga-category=\"page_nav\" href=\"#heading\">\n",
       "     Title &amp; authors\n",
       "   </a>\n",
       " </li>\n",
       " <li class=\"similar\">\n",
       " <a aria-label=\"navigate to Similar articles section\" data-ga-action=\"similar\" data-ga-category=\"page_nav\" href=\"#similar\">\n",
       "     Similar articles\n",
       "   </a>\n",
       " </li>\n",
       " <li class=\"citedby\">\n",
       " <a aria-label=\"navigate to Cited by section\" data-ga-action=\"citedby\" data-ga-category=\"page_nav\" href=\"#citedby\">\n",
       "     Cited by\n",
       "   </a>\n",
       " </li>\n",
       " <li class=\"publication-types\">\n",
       " <a aria-label=\"navigate to Publication types section\" data-ga-action=\"publication-types\" data-ga-category=\"page_nav\" href=\"#publication-types\">\n",
       "     Publication types\n",
       "   </a>\n",
       " </li>\n",
       " <li class=\"mesh-terms\">\n",
       " <a aria-label=\"navigate to MeSH terms section\" data-ga-action=\"mesh-terms\" data-ga-category=\"page_nav\" href=\"#mesh-terms\">\n",
       "     MeSH terms\n",
       "   </a>\n",
       " </li>\n",
       " <li class=\"linkout\">\n",
       " <a aria-label=\"navigate to LinkOut - more resources section\" data-ga-action=\"linkout\" data-ga-category=\"page_nav\" href=\"#linkout\">\n",
       "     LinkOut - more resources\n",
       "   </a>\n",
       " </li>\n",
       " </ul>\n",
       " </div>,\n",
       " <div class=\"full-view\" id=\"full-view-heading\">\n",
       " <div class=\"article-citation\">\n",
       " <div class=\"publication-type\">Review</div>\n",
       " <div class=\"article-source\">\n",
       " <div class=\"journal-actions dropdown-block\"><button aria-controls=\"full-view-journal\" aria-expanded=\"false\" aria-label=\"Toggle dropdown menu for journal Clinical microbiology and infection : the official publication of the European Society of Clinical Microbiology and Infectious Diseases\" class=\"journal-actions-trigger trigger\" data-pinger-ignore=\"\" id=\"full-view-journal-trigger\" ref=\"linksrc=journal_actions_btn\" tabindex=\"0\" title=\"Clinical microbiology and infection : the official publication of the European Society of Clinical Microbiology and Infectious Diseases\">\n",
       "       Clin Microbiol Infect\n",
       "     </button><div aria-label=\"Dropdown menu for journal Clinical microbiology and infection : the official publication of the European Society of Clinical Microbiology and Infectious Diseases\" class=\"journal-actions-dropdown dropdown dropdown-container\" hidden=\"\" id=\"full-view-journal\"><div class=\"title\">Actions</div><div class=\"content\"><ul class=\"journal-actions-links\"><li><a class=\"search-in-pubmed-link dropdown-block-link\" data-ga-action=\"journal_link\" data-ga-category=\"search\" data-ga-label=\"Clin Microbiol Infect\" data-href=\"/?term=%22Clin+Microbiol+Infect%22%5Bjour%5D&amp;sort=date&amp;sort_order=desc\" href=\"/?term=%22Clin+Microbiol+Infect%22%5Bjour%5D&amp;sort=date&amp;sort_order=desc\" ref=\"linksrc=search_in_pubmed_journal_name_link&amp;journal_abbrev=Clin Microbiol Infect\">\n",
       "               Search in PubMed\n",
       "             </a></li><li><a class=\"search-in-nlm-catalog-link dropdown-block-link\" data-ga-action=\"journal_link\" data-ga-category=\"search_catalog\" data-ga-label=\"Clin Microbiol Infect\" href=\"https://www.ncbi.nlm.nih.gov/nlmcatalog?term=%22Clin+Microbiol+Infect%22%5BTitle+Abbreviation%5D\" ref=\"linksrc=search_in_nlm_catalog_link\">\n",
       "               Search in NLM Catalog\n",
       "             </a></li><li><a class=\"add-to-search-link dropdown-block-link\" data-ga-action=\"add_to_search\" data-ga-category=\"search\" data-ga-label='\"Clin Microbiol Infect\"[jour]' data-search-term='\"Clin Microbiol Infect\"[jour]' href=\"#\" ref=\"linksrc=add_to_search_link\" role=\"button\">\n",
       "               Add to Search\n",
       "             </a></li></ul></div></div></div><span class=\"period\">. </span><span class=\"cit\">2018 Aug;24(8):806-807.</span>\n",
       " </div>\n",
       " <span class=\"citation-doi\">\n",
       "         doi: 10.1016/j.cmi.2018.06.018.\n",
       "       </span>\n",
       " <span class=\"secondary-date\">\n",
       "         Epub 2018 Jun 27.\n",
       "       </span>\n",
       " </div>\n",
       " <h1 class=\"heading-title\">\n",
       "   \n",
       "     \n",
       "     \n",
       "     \n",
       "     \n",
       "       \n",
       "   Fever in the tropics: the ultimate clinical challenge?\n",
       " \n",
       " \n",
       "     \n",
       "   \n",
       " </h1>\n",
       " <div class=\"inline-authors\">\n",
       " <div class=\"authors\">\n",
       " <div class=\"authors-list\">\n",
       " <span class=\"authors-list-item\"><a class=\"full-name\" data-ga-action=\"author_link\" data-ga-category=\"search\" data-ga-label=\"E Bottieau\" href=\"/?term=Bottieau+E&amp;cauthor_id=29940346\" ref=\"linksrc=author_name_link\">E Bottieau</a><sup class=\"affiliation-links\"><span class=\"author-sup-separator\"> </span><a class=\"affiliation-link\" href=\"#full-view-affiliation-1\" ref=\"linksrc=author_aff\" title=\"Department of Clinical Sciences, Institute of Tropical Medicine, Antwerp, Belgium. Electronic address: ebottieau@itg.be.\">\n",
       "                 1\n",
       "               </a></sup><span class=\"comma\">, </span></span><span class=\"authors-list-item\"><a class=\"full-name\" data-ga-action=\"author_link\" data-ga-category=\"search\" data-ga-label=\"C P Yansouni\" href=\"/?term=Yansouni+CP&amp;cauthor_id=29940346\" ref=\"linksrc=author_name_link\">C P Yansouni</a><sup class=\"affiliation-links\"><span class=\"author-sup-separator\"> </span><a class=\"affiliation-link\" href=\"#full-view-affiliation-2\" ref=\"linksrc=author_aff\" title=\"JD MacLean Centre for Tropical Diseases, McGill University Health Centre, Montreal, Canada.\">\n",
       "                 2\n",
       "               </a></sup></span>\n",
       " </div>\n",
       " </div>\n",
       " </div>\n",
       " <div class=\"short-article-details\">\n",
       "   \n",
       " \n",
       "   \n",
       "     Affiliations\n",
       "   \n",
       " \n",
       "   \n",
       "     <button aria-controls=\"expanded-authors\" aria-expanded=\"false\" class=\"more-details\" data-alt-text=\"Collapse\" data-fetch-url=\"/29940346/long-authors/\" data-id-prefix=\"\" data-pinger-ignore=\"\" id=\"toggle-authors\">\n",
       " <span class=\"title\">\n",
       "         Expand\n",
       "       </span>\n",
       " </button>\n",
       " </div>\n",
       " <div aria-hidden=\"true\" class=\"extended-article-details\" id=\"expanded-authors\">\n",
       " <div class=\"expanded-authors\" id=\"full-view-expanded-authors\">\n",
       " <div class=\"affiliations\">\n",
       " <h3 class=\"title\">\n",
       "             Affiliations\n",
       "           </h3>\n",
       " <ul class=\"item-list\">\n",
       " <li data-affiliation-id=\"full-view-affiliation-1\" id=\"full-view-affiliation-1\"><sup class=\"key\">1</sup> Department of Clinical Sciences, Institute of Tropical Medicine, Antwerp, Belgium. Electronic address: ebottieau@itg.be.</li>\n",
       " <li data-affiliation-id=\"full-view-affiliation-2\" id=\"full-view-affiliation-2\"><sup class=\"key\">2</sup> JD MacLean Centre for Tropical Diseases, McGill University Health Centre, Montreal, Canada.</li>\n",
       " </ul>\n",
       " </div>\n",
       " </div>\n",
       " </div>\n",
       " <ul class=\"identifiers\" id=\"full-view-identifiers\">\n",
       " <li>\n",
       " <span class=\"identifier pubmed\">\n",
       " <span class=\"id-label\">\n",
       "     \n",
       "       PMID:\n",
       "     \n",
       "   </span>\n",
       " <strong class=\"current-id\" title=\"PubMed ID\">29940346</strong>\n",
       " </span>\n",
       " </li>\n",
       " <li>\n",
       " <span class=\"identifier doi\">\n",
       " <span class=\"id-label\">\n",
       "     \n",
       "       DOI:\n",
       "     \n",
       "   </span>\n",
       " <a class=\"id-link\" data-ga-action=\"DOI\" data-ga-category=\"full_text\" href=\"https://doi.org/10.1016/j.cmi.2018.06.018\" ref=\"linksrc=article_id_link&amp;article_id=10.1016/j.cmi.2018.06.018&amp;id_type=DOI\" rel=\"noopener\" target=\"_blank\">\n",
       "       10.1016/j.cmi.2018.06.018\n",
       "     </a>\n",
       " </span>\n",
       " </li>\n",
       " </ul>\n",
       " <span class=\"free-label\">Free article</span>\n",
       " <div class=\"in-clipboard-label\" hidden=\"\">\n",
       "   Item in Clipboard\n",
       " </div>\n",
       " </div>]"
      ]
     },
     "execution_count": 3,
     "metadata": {},
     "output_type": "execute_result"
    }
   ],
   "source": [
    "content"
   ]
  },
  {
   "cell_type": "code",
   "execution_count": 5,
   "id": "41836cac",
   "metadata": {},
   "outputs": [
    {
     "ename": "AttributeError",
     "evalue": "ResultSet object has no attribute 'find_all'. You're probably treating a list of elements like a single element. Did you call find_all() when you meant to call find()?",
     "output_type": "error",
     "traceback": [
      "\u001b[1;31m---------------------------------------------------------------------------\u001b[0m",
      "\u001b[1;31mAttributeError\u001b[0m                            Traceback (most recent call last)",
      "\u001b[1;32m<ipython-input-5-d442bd27e456>\u001b[0m in \u001b[0;36m<module>\u001b[1;34m\u001b[0m\n\u001b[1;32m----> 1\u001b[1;33m \u001b[0mdoi\u001b[0m \u001b[1;33m=\u001b[0m \u001b[0mcontent\u001b[0m\u001b[1;33m.\u001b[0m\u001b[0mfind_all\u001b[0m\u001b[1;33m(\u001b[0m\u001b[1;34m\"a\"\u001b[0m\u001b[1;33m,\u001b[0m \u001b[0mclass_\u001b[0m\u001b[1;33m=\u001b[0m\u001b[1;34m\"id-link\"\u001b[0m\u001b[1;33m)\u001b[0m\u001b[1;33m.\u001b[0m\u001b[0mtext\u001b[0m\u001b[1;33m.\u001b[0m\u001b[0mstrip\u001b[0m\u001b[1;33m(\u001b[0m\u001b[1;33m)\u001b[0m\u001b[1;33m\u001b[0m\u001b[1;33m\u001b[0m\u001b[0m\n\u001b[0m",
      "\u001b[1;32m~\\anaconda3\\lib\\site-packages\\bs4\\element.py\u001b[0m in \u001b[0;36m__getattr__\u001b[1;34m(self, key)\u001b[0m\n\u001b[0;32m   2287\u001b[0m     \u001b[1;32mdef\u001b[0m \u001b[0m__getattr__\u001b[0m\u001b[1;33m(\u001b[0m\u001b[0mself\u001b[0m\u001b[1;33m,\u001b[0m \u001b[0mkey\u001b[0m\u001b[1;33m)\u001b[0m\u001b[1;33m:\u001b[0m\u001b[1;33m\u001b[0m\u001b[1;33m\u001b[0m\u001b[0m\n\u001b[0;32m   2288\u001b[0m         \u001b[1;34m\"\"\"Raise a helpful exception to explain a common code fix.\"\"\"\u001b[0m\u001b[1;33m\u001b[0m\u001b[1;33m\u001b[0m\u001b[0m\n\u001b[1;32m-> 2289\u001b[1;33m         raise AttributeError(\n\u001b[0m\u001b[0;32m   2290\u001b[0m             \u001b[1;34m\"ResultSet object has no attribute '%s'. You're probably treating a list of elements like a single element. Did you call find_all() when you meant to call find()?\"\u001b[0m \u001b[1;33m%\u001b[0m \u001b[0mkey\u001b[0m\u001b[1;33m\u001b[0m\u001b[1;33m\u001b[0m\u001b[0m\n\u001b[0;32m   2291\u001b[0m         )\n",
      "\u001b[1;31mAttributeError\u001b[0m: ResultSet object has no attribute 'find_all'. You're probably treating a list of elements like a single element. Did you call find_all() when you meant to call find()?"
     ]
    }
   ],
   "source": [
    "doi = content.find_all(\"a\", class_=\"id-link\").text.strip()"
   ]
  },
  {
   "cell_type": "code",
   "execution_count": 42,
   "id": "64d6feb5",
   "metadata": {},
   "outputs": [
    {
     "name": "stdout",
     "output_type": "stream",
     "text": [
      "10.1016/j.cmi.2018.06.018\n"
     ]
    }
   ],
   "source": [
    "from bs4 import BeautifulSoup\n",
    "\n",
    "html = '<a class=\"id-link\" target=\"_blank\" rel=\"noopener\" ref=\"linksrc=article_id_link&amp;article_id=10.1016/j.cmi.2018.06.018&amp;id_type=DOI\" href=\"https://doi.org/10.1016/j.cmi.2018.06.018\" data-ga-category=\"full_text\" data-ga-action=\"DOI\">10.1016/j.cmi.2018.06.018</a>'\n",
    "\n",
    "soup = BeautifulSoup(html, 'html.parser')\n",
    "doi_element = soup.find('a', class_=\"id-link\")\n",
    "\n",
    "if doi_element:\n",
    "    doi = doi_element.text.strip()\n",
    "    print(doi)\n",
    "else:\n",
    "    print(\"DOI not found in the HTML\")\n"
   ]
  },
  {
   "cell_type": "code",
   "execution_count": null,
   "id": "1afa8388",
   "metadata": {},
   "outputs": [],
   "source": []
  }
 ],
 "metadata": {
  "kernelspec": {
   "display_name": "Python 3 (ipykernel)",
   "language": "python",
   "name": "python3"
  },
  "language_info": {
   "codemirror_mode": {
    "name": "ipython",
    "version": 3
   },
   "file_extension": ".py",
   "mimetype": "text/x-python",
   "name": "python",
   "nbconvert_exporter": "python",
   "pygments_lexer": "ipython3",
   "version": "3.9.13"
  }
 },
 "nbformat": 4,
 "nbformat_minor": 5
}
