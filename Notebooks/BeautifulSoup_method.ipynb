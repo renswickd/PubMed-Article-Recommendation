{
 "cells": [
  {
   "cell_type": "code",
   "execution_count": 12,
   "id": "289a05b2",
   "metadata": {},
   "outputs": [],
   "source": [
    "from bs4 import BeautifulSoup\n",
    "import requests\n",
    "import re"
   ]
  },
  {
   "cell_type": "code",
   "execution_count": 63,
   "id": "b25d2ef1",
   "metadata": {},
   "outputs": [],
   "source": [
    "def generate_query_url(user_input):\n",
    "    input1 = user_input.strip().replace(\" \" , \"+\")\n",
    "    return f\"https://pubmed.ncbi.nlm.nih.gov/?term={input1}\"\n",
    "\n",
    "def get_abstract_and_doi(pmid):\n",
    "    url = f\"https://pubmed.ncbi.nlm.nih.gov/{pmid}/\" #https://pubmed.ncbi.nlm.nih.gov/\"+pmid+\"/\"\n",
    "    try:\n",
    "        response = requests.get(url)\n",
    "        soup = BeautifulSoup(response.content, 'html.parser')\n",
    "        \n",
    "        abs_content = soup.find_all('div', class_=\"article-page\")\n",
    "        abstract = abs_content[0].find(\"div\", class_=\"abstract-content selected\").text.strip()\n",
    "        abstract = \" \".join(abstract.split())\n",
    "        \n",
    "        doi_content = soup.find('span', class_ = \"citation-doi\")\n",
    "        doi = doi_content.get_text().strip()\n",
    "        \n",
    "        return abstract , doi.split()[-1]\n",
    "    \n",
    "    except:        \n",
    "        return None , None"
   ]
  },
  {
   "cell_type": "code",
   "execution_count": 65,
   "id": "d25a5db7",
   "metadata": {},
   "outputs": [
    {
     "data": {
      "text/plain": [
       "'10.1038/s41590-021-01104-y.'"
      ]
     },
     "execution_count": 65,
     "metadata": {},
     "output_type": "execute_result"
    }
   ],
   "source": [
    "get_abstract_and_doi(\"35105985\")[1]       \n",
    "# print(a)\n",
    "# print(b)"
   ]
  },
  {
   "cell_type": "code",
   "execution_count": 62,
   "id": "54bffd86",
   "metadata": {},
   "outputs": [
    {
     "name": "stdout",
     "output_type": "stream",
     "text": [
      "[25, 2001]\n"
     ]
    }
   ],
   "source": [
    "a , *rens ,b, c = (\"maesa\" ,25, 2001 , \"rens\" ,\"jamie\")\n",
    "print(rens)"
   ]
  },
  {
   "cell_type": "code",
   "execution_count": 24,
   "id": "aa4a56f3",
   "metadata": {},
   "outputs": [
    {
     "name": "stdout",
     "output_type": "stream",
     "text": [
      "10.1038/s41590-021-01104-y.\n"
     ]
    }
   ],
   "source": [
    "doi_url = \"https://pubmed.ncbi.nlm.nih.gov/35105985/\"\n",
    "response = requests.get(doi_url)\n",
    "soup = BeautifulSoup(response.content, 'html.parser')\n",
    "content = soup.find('span', class_ = \"citation-doi\")\n",
    "doi = content.get_text().strip()\n",
    "a=doi.split()[-1]\n",
    "print(a)"
   ]
  },
  {
   "cell_type": "code",
   "execution_count": 66,
   "id": "3527959d",
   "metadata": {},
   "outputs": [
    {
     "name": "stdout",
     "output_type": "stream",
     "text": [
      "Enter your Query: fever\n"
     ]
    },
    {
     "data": {
      "text/plain": [
       "'https://pubmed.ncbi.nlm.nih.gov/?term=fever'"
      ]
     },
     "execution_count": 66,
     "metadata": {},
     "output_type": "execute_result"
    }
   ],
   "source": [
    "query = input(\"Enter your Query: \").strip()\n",
    "query_url = generate_query_url(query)\n",
    "query_url"
   ]
  },
  {
   "cell_type": "code",
   "execution_count": 67,
   "id": "2dbdc72b",
   "metadata": {},
   "outputs": [
    {
     "name": "stdout",
     "output_type": "stream",
     "text": [
      "<Response [200]>\n"
     ]
    }
   ],
   "source": [
    "# url = \"https://pubmed.ncbi.nlm.nih.gov/?term=covid\"\n",
    "response = requests.get(query_url)\n",
    "print(response)"
   ]
  },
  {
   "cell_type": "code",
   "execution_count": 68,
   "id": "9fee2ee3",
   "metadata": {},
   "outputs": [],
   "source": [
    "soup = BeautifulSoup(response.content, 'html.parser')\n",
    "content = soup.find_all('div', class_ = \"docsum-content\")"
   ]
  },
  {
   "cell_type": "code",
   "execution_count": 69,
   "id": "844fbaf4",
   "metadata": {},
   "outputs": [],
   "source": [
    "itemful = {}\n",
    "\n",
    "for item in content:\n",
    "    pmid = item.find(\"span\", class_=\"docsum-pmid\").text.strip()\n",
    "\n",
    "    itemful[pmid]={ \n",
    "        \"paper_name\":item.find(\"a\", class_=\"docsum-title\").text.strip(),\n",
    "        \"author\":item.find(\"span\", class_=\"docsum-authors full-authors\").text.strip(),\n",
    "        \"doi\" : get_abstract_and_doi(pmid)[1],\n",
    "        \"abstract\": get_abstract_and_doi(pmid)[0]\n",
    "    }\n",
    "\n",
    "# print(itemful)\n"
   ]
  },
  {
   "cell_type": "code",
   "execution_count": 74,
   "id": "35c9e680",
   "metadata": {},
   "outputs": [
    {
     "name": "stdout",
     "output_type": "stream",
     "text": [
      "dict_keys(['35822579', '26772198', '20660880', '9208885', '27209095', '8698996', '29940346', '16895496', '10913413', '2200377'])\n",
      "{'paper_name': 'Neurogenic Fever.', 'author': 'Meier K, Lee K.', 'doi': '10.1177/0885066615625194.', 'abstract': 'Fever is a relatively common occurrence among patients in the intensive care setting. Although the most obvious and concerning etiology is sepsis, drug reactions, venous thromboembolism, and postsurgical fevers are all on the differential diagnosis. There is abundant evidence that fever is detrimental in acute neurologic injury. Worse outcomes are reported in acute stroke, subarachnoid hemorrhage, and traumatic brain injury. In addition to the various etiologies of fever in the intensive care setting, neurologic illness is a risk factor for neurogenic fevers. This primarily occurs in subarachnoid hemorrhage and traumatic brain injury, with hypothalamic injury being the proposed mechanism. Paroxysmal sympathetic hyperactivity is another source of hyperthermia commonly seen in the population with traumatic brain injury. This review focuses on the detrimental effects of fever on the neurologically injured as well as the risk factors and diagnosis of neurogenic fever.'}\n"
     ]
    }
   ],
   "source": [
    "print(itemful.keys())\n",
    "print(itemful[list(itemful.keys())[1]])"
   ]
  },
  {
   "cell_type": "code",
   "execution_count": null,
   "id": "ff0c3279",
   "metadata": {},
   "outputs": [],
   "source": []
  },
  {
   "cell_type": "code",
   "execution_count": null,
   "id": "9d6e13ab",
   "metadata": {},
   "outputs": [],
   "source": []
  },
  {
   "cell_type": "code",
   "execution_count": null,
   "id": "3b68bec8",
   "metadata": {},
   "outputs": [],
   "source": []
  },
  {
   "cell_type": "code",
   "execution_count": null,
   "id": "55c3347b",
   "metadata": {},
   "outputs": [],
   "source": []
  },
  {
   "cell_type": "markdown",
   "id": "1a7307b9",
   "metadata": {},
   "source": [
    "#### ROUGH WORK"
   ]
  },
  {
   "cell_type": "code",
   "execution_count": 77,
   "id": "65d8c2c5",
   "metadata": {},
   "outputs": [],
   "source": [
    "abs_urls =[]\n",
    "for pmid in itemful.keys():\n",
    "    abs_urls.append(\"https://pubmed.ncbi.nlm.nih.gov/\"+pmid+\"/\")  \n",
    "# print(abs_urls)"
   ]
  },
  {
   "cell_type": "code",
   "execution_count": 46,
   "id": "db8734b1",
   "metadata": {},
   "outputs": [
    {
     "data": {
      "text/plain": [
       "'Background: At the end of December 2019'"
      ]
     },
     "execution_count": 46,
     "metadata": {},
     "output_type": "execute_result"
    }
   ],
   "source": [
    "a = \"Background:\\n        \\n      \\n      At the end of December 2019\"\n",
    "\" \".join(a.split())"
   ]
  },
  {
   "cell_type": "code",
   "execution_count": 47,
   "id": "6b9b59ed",
   "metadata": {},
   "outputs": [
    {
     "data": {
      "text/plain": [
       "'Background: At the end of December 2019, a novel coronavirus tentatively named SARS-CoV-2 in Wuhan, a central city in China, was announced by the World Health Organization. SARS-CoV-2 is an RNA virus that has become a major public health concern after the outbreak of the Middle East Respiratory Syndrome-CoV (MERS-CoV) and Severe Acute Respiratory Syndrome-CoV (SARS-CoV) in 2002 and 2012, respectively. As of 29 October 2020, the total number of COVID-19 cases had reached over 44 million worldwide, with more than 1.17 million confirmed deaths. Discussion: SARS-CoV-2 infected patients usually present with severe viral pneumonia. Similar to SARS-CoV, the virus enters respiratory tract cells via the angiotensin-converting enzyme receptor 2. The structural proteins play an essential role in budding the virus particles released from different host cells. To date, an approved vaccine or treatment option of a preventive character to avoid severe courses of COVID-19 is still not available. Conclusions: In the present study, we provide a brief review of the general biological features of CoVs and explain the pathogenesis, clinical symptoms and diagnostic approaches regarding monitoring future infectivity and prevent emerging COVID-19 infections.'"
      ]
     },
     "execution_count": 47,
     "metadata": {},
     "output_type": "execute_result"
    }
   ],
   "source": [
    "# abstract\n",
    "abstract_new = \" \".join(abstract.split())\n",
    "abstract_new\n"
   ]
  },
  {
   "cell_type": "code",
   "execution_count": 41,
   "id": "2a213cf8",
   "metadata": {},
   "outputs": [
    {
     "name": "stdout",
     "output_type": "stream",
     "text": [
      "HelloWorldThisisamultilinestringwithmultiplespaces.\n"
     ]
    }
   ],
   "source": [
    "import re\n",
    "\n",
    "original_string = \"Hello  World  This is a  multiline    string    with    multiple    spaces.\"\n",
    "processed_string = re.sub(' +', '', original_string)  # Replace consecutive spaces with an empty string\n",
    "\n",
    "print(processed_string)\n"
   ]
  },
  {
   "cell_type": "code",
   "execution_count": 9,
   "id": "81a73302",
   "metadata": {},
   "outputs": [
    {
     "name": "stdout",
     "output_type": "stream",
     "text": [
      "['33053381', 'Treatment for COVID-19: An overview.', 'Stasi C, Fallani S, Voller F, Silvestri C.', 'Coronavirus disease 2019 (COVID-19) is an infectious disease caused by coronavirus-2 (SARS-CoV-2) that causes a severe acute respiratory syndrome, a characteristic hyperinflammatory response, vascular damage, microangiopathy, angiogenesis …']\n",
      "['33307513', 'COVID-19 and cancer: From basic mechanisms to vaccine development using nanotechnology.', 'Han HJ, Nwagwu C, Anyim O, Ekweremadu C, Kim S.', 'Coronavirus disease 2019 (COVID-19), caused by severe acute respiratory syndrome coronavirus 2 (SARS-CoV-2), is a global pandemic which has induced unprecedented ramifications, severely affecting our society due to the long incubation tim …']\n",
      "['35105985', 'Pathological sequelae of long-haul COVID.', 'Mehandru S, Merad M.', 'The world continues to contend with successive waves of coronavirus disease 2019 (COVID-19), fueled by the emergence of viral variants. At the same time, persistent, prolonged and often debilitating sequelae are increasingly recognized in convalescent individuals, n …']\n",
      "['33506952', 'Role of Toll-like receptors in the pathogenesis of COVID-19.', 'Khanmohammadi S, Rezaei N.', 'Coronavirus disease 2019 (COVID-19), caused by severe acute respiratory syndrome coronavirus 2 (SARS-CoV-2), has led to a pandemic since March 2020. ...However, available data from other coronavirus families, such as SARS-CoV …']\n",
      "['33305456', 'COVID-19: Virology, biology and novel laboratory diagnosis.', 'Mohamadian M, Chiti H, Shoghli A, Biglari S, Parsamanesh N, Esmaeilzadeh A.', 'SARS-CoV-2 is an RNA virus that has become a major public health concern after the outbreak of the Middle East Respiratory Syndrome-CoV (MERS-CoV) and Severe Acute Respiratory Syndrome-CoV (SARS-CoV) in 2002 and 2012, respec …']\n",
      "['33244462', 'An Update on Molecular Diagnostics for COVID-19.', 'Islam KU, Iqbal J.', 'A novel strain of Severe Acute Respiratory Syndrome Coronavirus 2 (SARS-CoV-2) disease (COVID-19) has been recently identified as an infectious disease affecting the respiratory system of humans. This disease is caused by SARS-C …']\n",
      "['33435929', 'Insights to SARS-CoV-2 life cycle, pathophysiology, and rationalized treatments that target COVID-19 clinical complications.', 'Trougakos IP, Stamatelopoulos K, Terpos E, Tsitsilonis OE, Aivalioti E, Paraskevis D, Kastritis E, Pavlakis GN, Dimopoulos MA.', 'BACKGROUND: Gaining further insights into SARS-CoV-2 routes of infection and the underlying pathobiology of COVID-19 will support the design of rational treatments targeting the life cycle of the virus and/or the adverse effects (e.g., multi-org …']\n",
      "['33617700', 'COVID-19 and neurology perspective.', 'Singh S, Ahirwar AK, Asia P, Gopal N, Kaim K, Ahirwar P.', 'COVID-19 caused by SARS CoV2 (The novel corona virus) has already taken lives of many people across the globe even more than anyone could have imagined. ...When a person is infected the clinical presentation ranges from asymptomatic to severe ARDS, sudden ons …']\n",
      "['33010669', 'The novel coronavirus Disease-2019 (COVID-19): Mechanism of action, detection and recent therapeutic strategies.', 'Seyed Hosseini E, Riahi Kashani N, Nikzad H, Azadbakht J, Hassani Bafrani H, Haddad Kashani H.', 'Novel coronavirus SARS-CoV-2, designated as COVID-19 by the World Health Organization (WHO) on the February 11, 2020, is one of the highly pathogenic beta-coronaviruses which infects human. ...The emergence of 2019-nCoV during the influenza seas …']\n",
      "['33666147', 'Lessons learned 1 year after SARS-CoV-2 emergence leading to COVID-19 pandemic.', 'To KK, Sridhar S, Chiu KH, Hung DL, Li X, Hung IF, Tam AR, Chung TW, Chan JF, Zhang AJ, Cheng VC, Yuen KY.', 'Without modern medical management and vaccines, the severity of the Coronavirus Disease 2019 (COVID-19) pandemic caused by severe acute respiratory syndrome (SARS) coronavirus 2 (SARS-CoV-2) might approach the magnitude of 1894-pla …']\n"
     ]
    }
   ],
   "source": [
    "itemful = []\n",
    "\n",
    "for item in content:\n",
    "    items = []\n",
    "    pmid = item.find(\"span\", class_=\"docsum-pmid\")\n",
    "    paper_name = item.find(\"a\", class_=\"docsum-title\")\n",
    "    author = item.find(\"span\", class_=\"docsum-authors full-authors\")\n",
    "    abstract = item.find(\"div\", class_=\"full-view-snippet\")\n",
    "    \n",
    "    if paper_name and author:\n",
    "        items.append(pmid.text.strip())\n",
    "        items.append(paper_name.text.strip())\n",
    "        items.append(author.text.strip())\n",
    "        items.append(abstract.text.strip())\n",
    "        \n",
    "        itemful.append(items)\n",
    "\n",
    "for items in itemful:\n",
    "    print(items)"
   ]
  },
  {
   "cell_type": "code",
   "execution_count": 49,
   "id": "6da5fa1a",
   "metadata": {},
   "outputs": [
    {
     "name": "stdout",
     "output_type": "stream",
     "text": [
      "{'paper_name': 'An Update on Molecular Diagnostics for COVID-19.', 'author': 'Islam KU, Iqbal J.', 'abstract': 'A novel strain of Severe Acute Respiratory Syndrome Coronavirus 2 (SARS-CoV-2) disease (COVID-19) has been recently identified as an infectious disease affecting the respiratory system of humans. This disease is caused by SARS-C …'}\n"
     ]
    }
   ],
   "source": [
    "itemful = {}\n",
    "\n",
    "for item in content:\n",
    "    pmid = item.find(\"span\", class_=\"docsum-pmid\").text.strip()\n",
    "    paper_name = item.find(\"a\", class_=\"docsum-title\").text.strip()\n",
    "    author = item.find(\"span\", class_=\"docsum-authors full-authors\").text.strip()\n",
    "#     abstract = item.find(\"div\", class_=\"full-view-snippet\").text.strip()\n",
    "    \n",
    "    itemful[pmid]={\n",
    "        \"paper_name\":paper_name,\n",
    "        \"author\":author\n",
    "    }\n",
    "\n",
    "print(itemful[\"33244462\"])"
   ]
  },
  {
   "cell_type": "code",
   "execution_count": 12,
   "id": "041a86b2",
   "metadata": {},
   "outputs": [
    {
     "name": "stdout",
     "output_type": "stream",
     "text": [
      "10.1016/j.cmi.2018.06.018\n"
     ]
    }
   ],
   "source": [
    "url = \"https://pubmed.ncbi.nlm.nih.gov/29940346/\"\n",
    "\n",
    "response = requests.get(url)\n",
    "soup = BeautifulSoup(response.content, 'html.parser')\n",
    "content = soup.find('a', class_ = \"id-link\")\n",
    "link_text = content.get_text().strip()\n",
    "print(link_text)"
   ]
  },
  {
   "cell_type": "code",
   "execution_count": 76,
   "id": "d8a5a791",
   "metadata": {},
   "outputs": [],
   "source": [
    "# content"
   ]
  },
  {
   "cell_type": "code",
   "execution_count": 5,
   "id": "41836cac",
   "metadata": {},
   "outputs": [
    {
     "ename": "AttributeError",
     "evalue": "ResultSet object has no attribute 'find_all'. You're probably treating a list of elements like a single element. Did you call find_all() when you meant to call find()?",
     "output_type": "error",
     "traceback": [
      "\u001b[1;31m---------------------------------------------------------------------------\u001b[0m",
      "\u001b[1;31mAttributeError\u001b[0m                            Traceback (most recent call last)",
      "\u001b[1;32m<ipython-input-5-d442bd27e456>\u001b[0m in \u001b[0;36m<module>\u001b[1;34m\u001b[0m\n\u001b[1;32m----> 1\u001b[1;33m \u001b[0mdoi\u001b[0m \u001b[1;33m=\u001b[0m \u001b[0mcontent\u001b[0m\u001b[1;33m.\u001b[0m\u001b[0mfind_all\u001b[0m\u001b[1;33m(\u001b[0m\u001b[1;34m\"a\"\u001b[0m\u001b[1;33m,\u001b[0m \u001b[0mclass_\u001b[0m\u001b[1;33m=\u001b[0m\u001b[1;34m\"id-link\"\u001b[0m\u001b[1;33m)\u001b[0m\u001b[1;33m.\u001b[0m\u001b[0mtext\u001b[0m\u001b[1;33m.\u001b[0m\u001b[0mstrip\u001b[0m\u001b[1;33m(\u001b[0m\u001b[1;33m)\u001b[0m\u001b[1;33m\u001b[0m\u001b[1;33m\u001b[0m\u001b[0m\n\u001b[0m",
      "\u001b[1;32m~\\anaconda3\\lib\\site-packages\\bs4\\element.py\u001b[0m in \u001b[0;36m__getattr__\u001b[1;34m(self, key)\u001b[0m\n\u001b[0;32m   2287\u001b[0m     \u001b[1;32mdef\u001b[0m \u001b[0m__getattr__\u001b[0m\u001b[1;33m(\u001b[0m\u001b[0mself\u001b[0m\u001b[1;33m,\u001b[0m \u001b[0mkey\u001b[0m\u001b[1;33m)\u001b[0m\u001b[1;33m:\u001b[0m\u001b[1;33m\u001b[0m\u001b[1;33m\u001b[0m\u001b[0m\n\u001b[0;32m   2288\u001b[0m         \u001b[1;34m\"\"\"Raise a helpful exception to explain a common code fix.\"\"\"\u001b[0m\u001b[1;33m\u001b[0m\u001b[1;33m\u001b[0m\u001b[0m\n\u001b[1;32m-> 2289\u001b[1;33m         raise AttributeError(\n\u001b[0m\u001b[0;32m   2290\u001b[0m             \u001b[1;34m\"ResultSet object has no attribute '%s'. You're probably treating a list of elements like a single element. Did you call find_all() when you meant to call find()?\"\u001b[0m \u001b[1;33m%\u001b[0m \u001b[0mkey\u001b[0m\u001b[1;33m\u001b[0m\u001b[1;33m\u001b[0m\u001b[0m\n\u001b[0;32m   2291\u001b[0m         )\n",
      "\u001b[1;31mAttributeError\u001b[0m: ResultSet object has no attribute 'find_all'. You're probably treating a list of elements like a single element. Did you call find_all() when you meant to call find()?"
     ]
    }
   ],
   "source": [
    "doi = content.find_all(\"a\", class_=\"id-link\").text.strip()"
   ]
  },
  {
   "cell_type": "code",
   "execution_count": 42,
   "id": "64d6feb5",
   "metadata": {},
   "outputs": [
    {
     "name": "stdout",
     "output_type": "stream",
     "text": [
      "10.1016/j.cmi.2018.06.018\n"
     ]
    }
   ],
   "source": [
    "from bs4 import BeautifulSoup\n",
    "\n",
    "html = '<a class=\"id-link\" target=\"_blank\" rel=\"noopener\" ref=\"linksrc=article_id_link&amp;article_id=10.1016/j.cmi.2018.06.018&amp;id_type=DOI\" href=\"https://doi.org/10.1016/j.cmi.2018.06.018\" data-ga-category=\"full_text\" data-ga-action=\"DOI\">10.1016/j.cmi.2018.06.018</a>'\n",
    "\n",
    "soup = BeautifulSoup(html, 'html.parser')\n",
    "doi_element = soup.find('a', class_=\"id-link\")\n",
    "\n",
    "if doi_element:\n",
    "    doi = doi_element.text.strip()\n",
    "    print(doi)\n",
    "else:\n",
    "    print(\"DOI not found in the HTML\")\n"
   ]
  },
  {
   "cell_type": "code",
   "execution_count": 75,
   "id": "b4b8c371",
   "metadata": {},
   "outputs": [],
   "source": [
    "\n",
    "def generate_abstract(pmid):\n",
    "    abstact_url = \"https://pubmed.ncbi.nlm.nih.gov/\"+pmid+\"/\"\n",
    "    try:\n",
    "        response = requests.get(abstact_url)\n",
    "        soup = BeautifulSoup(response.content, 'html.parser')\n",
    "        content = soup.find_all('div', class_=\"article-page\")\n",
    "        abstract = content[0].find(\"div\", class_=\"abstract-content selected\").text.strip()\n",
    "        abstract = \" \".join(abstract.split())\n",
    "    except:\n",
    "        abstract = None\n",
    "        \n",
    "    return abstract\n",
    "\n",
    "def to_get_doi(pmid):\n",
    "    doi_url = \"https://pubmed.ncbi.nlm.nih.gov/\"+pmid+\"/\"\n",
    "    try:\n",
    "        response = requests.get(doi_url)\n",
    "        soup = BeautifulSoup(response.content, 'html.parser')\n",
    "        content = soup.find('span', class_ = \"citation-doi\")\n",
    "        doi = content.get_text().strip()\n",
    "        return doi.split()[-1]\n",
    "    except:\n",
    "        return None\n",
    "    "
   ]
  },
  {
   "cell_type": "code",
   "execution_count": null,
   "id": "1afa8388",
   "metadata": {},
   "outputs": [],
   "source": []
  }
 ],
 "metadata": {
  "kernelspec": {
   "display_name": "Python 3 (ipykernel)",
   "language": "python",
   "name": "python3"
  },
  "language_info": {
   "codemirror_mode": {
    "name": "ipython",
    "version": 3
   },
   "file_extension": ".py",
   "mimetype": "text/x-python",
   "name": "python",
   "nbconvert_exporter": "python",
   "pygments_lexer": "ipython3",
   "version": "3.9.13"
  }
 },
 "nbformat": 4,
 "nbformat_minor": 5
}
