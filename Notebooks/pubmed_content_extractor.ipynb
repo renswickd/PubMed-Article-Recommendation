{
 "cells": [
  {
   "cell_type": "code",
   "execution_count": 58,
   "id": "192c6b6e",
   "metadata": {},
   "outputs": [],
   "source": [
    "import pandas as pd\n",
    "from metapub import PubMedFetcher"
   ]
  },
  {
   "cell_type": "code",
   "execution_count": 59,
   "id": "51c15932",
   "metadata": {},
   "outputs": [
    {
     "name": "stdout",
     "output_type": "stream",
     "text": [
      "Enter the keyword: fever\n",
      "Enter the number of articles: 2\n"
     ]
    }
   ],
   "source": [
    "keyword = input(\"Enter the keyword: \")\n",
    "num_of_articles = int(input(\"Enter the number of articles: \"))"
   ]
  },
  {
   "cell_type": "code",
   "execution_count": 60,
   "id": "0e7e159f",
   "metadata": {},
   "outputs": [],
   "source": [
    "fetch = PubMedFetcher()\n",
    "ids = fetch.pmids_for_query(keyword, retmax=num_of_articles)"
   ]
  },
  {
   "cell_type": "code",
   "execution_count": 61,
   "id": "7132a4ba",
   "metadata": {},
   "outputs": [],
   "source": [
    "details = {}\n",
    "\n",
    "for pmid in ids:\n",
    "    article = fetch.article_by_pmid(pmid)\n",
    "    details[pmid] = {\n",
    "        \"author\": \", \".join(article.authors),\n",
    "        \"year\": article.year,\n",
    "        \"abstract\": article.abstract,\n",
    "        \"url\": article.url,\n",
    "    }"
   ]
  },
  {
   "cell_type": "code",
   "execution_count": 62,
   "id": "8dbec8d2",
   "metadata": {},
   "outputs": [
    {
     "name": "stdout",
     "output_type": "stream",
     "text": [
      "{'38258285': {'author': 'Ding W, Gong C, Meng T, Xiang X, Hong B, Shen S, Ding S', 'year': '2024', 'abstract': 'Severe fever with thrombocytopenia syndrome (SFTS), an emerging infectious disease with a high fatality rate. Cardiac injury in SFTS patients is a major concern. This study aimed to evaluate the prevalence of cardiac injury and its association with mortality in hospitalized patients infected with novel Bunyavirus. Cardiac injury was defined as the presence of any of the following abnormalities: (1) blood levels of cardiac biomarkers (creatine kinase-MB, troponin-I, B-type natriuretic peptide or N-terminal pro-B-type natriuretic peptide); (2) new abnormalities in electrocardiography. The 203 SFTS patients were included in the final analysis. The proportion of SFTS patients developing cardiac injury during hospitalization was 71.4% (145/203). Compared with the uninjured group, the cardiac injury group had the severity of cardiac injury was underscored by higher median hospital costs (31420 vs. 12911, p\\u2009<\\u20090.001), higher proportion of intensive care units admissions (13.1% vs. 3.4%, p\\u2009=\\u20090.041), and higher hospital mortality rate (33.8% vs. 6.9%, p\\u2009<\\u20090.001). Multivariable-adjusted Cox proportional hazards regression analysis showed that cardiac injury was associated with higher mortality during hospitalization (hazards ratio, 7.349; 95% CI: 2.352-22.960). Cardiac injury is common among hospitalized SFTS patients, and it is associated with higher risk of mortality.', 'url': 'https://ncbi.nlm.nih.gov/pubmed/38258285'}, '38257945': {'author': 'Mori G, Diotallevi S, Farina F, Lolatto R, Galli L, Chiurlo M, Acerbis A, Xue E, Clerici D, Mastaglio S, Lupo Stanghellini MT, Ripa M, Corti C, Peccatori J, Puoti M, Bernardi M, Castagna A, Ciceri F, Greco R, Oltolini C', 'year': '2024', 'abstract': 'Invasive fungal diseases (IFDs) still represent a relevant cause of mortality in patients affected by hematological malignancies, especially acute myeloid leukaemia (AML) and myelodysplastic syndrome (MDS) undergoing remission induction chemotherapy, and in allogeneic hematopoietic stem cell transplantation (allo-HSCT) recipients. Mold-active antifungal prophylaxis (MAP) has been established as a standard of care. However, breakthrough IFDs (b-IFDs) have emerged as a significant issue, particularly invasive aspergillosis and non-', 'url': 'https://ncbi.nlm.nih.gov/pubmed/38257945'}}\n"
     ]
    }
   ],
   "source": [
    "print(details)"
   ]
  },
  {
   "cell_type": "code",
   "execution_count": 42,
   "id": "3fe7300c",
   "metadata": {},
   "outputs": [
    {
     "data": {
      "text/plain": [
       "['__bool__',\n",
       " '__class__',\n",
       " '__contains__',\n",
       " '__copy__',\n",
       " '__deepcopy__',\n",
       " '__delattr__',\n",
       " '__delitem__',\n",
       " '__dir__',\n",
       " '__doc__',\n",
       " '__eq__',\n",
       " '__format__',\n",
       " '__ge__',\n",
       " '__getattribute__',\n",
       " '__getitem__',\n",
       " '__gt__',\n",
       " '__hash__',\n",
       " '__init__',\n",
       " '__init_subclass__',\n",
       " '__iter__',\n",
       " '__le__',\n",
       " '__len__',\n",
       " '__lt__',\n",
       " '__ne__',\n",
       " '__new__',\n",
       " '__reduce__',\n",
       " '__reduce_ex__',\n",
       " '__repr__',\n",
       " '__reversed__',\n",
       " '__setattr__',\n",
       " '__setitem__',\n",
       " '__sizeof__',\n",
       " '__str__',\n",
       " '__subclasshook__',\n",
       " '_init',\n",
       " 'addnext',\n",
       " 'addprevious',\n",
       " 'append',\n",
       " 'attrib',\n",
       " 'base',\n",
       " 'clear',\n",
       " 'cssselect',\n",
       " 'extend',\n",
       " 'find',\n",
       " 'findall',\n",
       " 'findtext',\n",
       " 'get',\n",
       " 'getchildren',\n",
       " 'getiterator',\n",
       " 'getnext',\n",
       " 'getparent',\n",
       " 'getprevious',\n",
       " 'getroottree',\n",
       " 'index',\n",
       " 'insert',\n",
       " 'items',\n",
       " 'iter',\n",
       " 'iterancestors',\n",
       " 'iterchildren',\n",
       " 'iterdescendants',\n",
       " 'iterfind',\n",
       " 'itersiblings',\n",
       " 'itertext',\n",
       " 'keys',\n",
       " 'makeelement',\n",
       " 'nsmap',\n",
       " 'prefix',\n",
       " 'remove',\n",
       " 'replace',\n",
       " 'set',\n",
       " 'sourceline',\n",
       " 'tag',\n",
       " 'tail',\n",
       " 'text',\n",
       " 'values',\n",
       " 'xpath']"
      ]
     },
     "execution_count": 42,
     "metadata": {},
     "output_type": "execute_result"
    }
   ],
   "source": [
    "dir(articles.content)"
   ]
  },
  {
   "cell_type": "code",
   "execution_count": 38,
   "id": "9f44c34c",
   "metadata": {},
   "outputs": [
    {
     "name": "stdout",
     "output_type": "stream",
     "text": [
      "None\n",
      "__________________________________________________\n",
      "Rickettsia conorii subsp. israelensis infection in a pediatric patient presenting skin rash and abdominal pain: a case report from Southeast Iran.\n"
     ]
    }
   ],
   "source": [
    "print(articles.book_title)\n",
    "print(\"_\"*50)\n",
    "print(articles.title)"
   ]
  },
  {
   "cell_type": "code",
   "execution_count": null,
   "id": "cb3fedc2",
   "metadata": {},
   "outputs": [],
   "source": [
    "from metapub import PubMedFetcher\n",
    "fetch = PubMedFetcher()\n",
    "\n",
    "# get the  PMID for first 3 articles with keyword sepsis\n",
    "pmids = fetch.pmids_for_query(keyword, retmax=num_of_articles)\n",
    "\n",
    "# get  articles\n",
    "articles = {}\n",
    "for pmid in pmids:\n",
    "    articles[pmid] = fetch.article_by_pmid(pmid)"
   ]
  },
  {
   "cell_type": "code",
   "execution_count": 27,
   "id": "6dbd648a",
   "metadata": {},
   "outputs": [
    {
     "name": "stdout",
     "output_type": "stream",
     "text": [
      "article_by_doi\n",
      "article_by_pmcid\n",
      "article_by_pmid\n",
      "method\n",
      "pmid_for_bookID\n",
      "pmids_for_citation\n",
      "pmids_for_clinical_query\n",
      "pmids_for_medical_genetics_query\n",
      "pmids_for_query\n",
      "qs\n",
      "related_pmids\n"
     ]
    }
   ],
   "source": [
    "for func in dir(fetch):\n",
    "#     if func[0] != \"_\":\n",
    "    if func.startswith(\"_\") == False:\n",
    "        print(func)"
   ]
  },
  {
   "cell_type": "code",
   "execution_count": 8,
   "id": "1a93850f",
   "metadata": {},
   "outputs": [
    {
     "data": {
      "text/html": [
       "<div>\n",
       "<style scoped>\n",
       "    .dataframe tbody tr th:only-of-type {\n",
       "        vertical-align: middle;\n",
       "    }\n",
       "\n",
       "    .dataframe tbody tr th {\n",
       "        vertical-align: top;\n",
       "    }\n",
       "\n",
       "    .dataframe thead th {\n",
       "        text-align: right;\n",
       "    }\n",
       "</style>\n",
       "<table border=\"1\" class=\"dataframe\">\n",
       "  <thead>\n",
       "    <tr style=\"text-align: right;\">\n",
       "      <th></th>\n",
       "      <th>pmid</th>\n",
       "      <th>Title</th>\n",
       "    </tr>\n",
       "  </thead>\n",
       "  <tbody>\n",
       "    <tr>\n",
       "      <th>0</th>\n",
       "      <td>38254000</td>\n",
       "      <td>Rickettsia conorii subsp. israelensis infectio...</td>\n",
       "    </tr>\n",
       "    <tr>\n",
       "      <th>1</th>\n",
       "      <td>38253924</td>\n",
       "      <td>Risk, Predictive, and Preventive Factors for N...</td>\n",
       "    </tr>\n",
       "    <tr>\n",
       "      <th>2</th>\n",
       "      <td>38253779</td>\n",
       "      <td>Phenotype of Takayasu-like vasculitis and card...</td>\n",
       "    </tr>\n",
       "  </tbody>\n",
       "</table>\n",
       "</div>"
      ],
      "text/plain": [
       "       pmid                                              Title\n",
       "0  38254000  Rickettsia conorii subsp. israelensis infectio...\n",
       "1  38253924  Risk, Predictive, and Preventive Factors for N...\n",
       "2  38253779  Phenotype of Takayasu-like vasculitis and card..."
      ]
     },
     "execution_count": 8,
     "metadata": {},
     "output_type": "execute_result"
    }
   ],
   "source": [
    "# get title for each article:\n",
    "titles = {}\n",
    "for pmid in pmids:\n",
    "    titles[pmid] = fetch.article_by_pmid(pmid).title\n",
    "Title = pd.DataFrame(list(titles.items()),columns = ['pmid','Title'])\n",
    "Title"
   ]
  },
  {
   "cell_type": "code",
   "execution_count": 9,
   "id": "f2f6f751",
   "metadata": {},
   "outputs": [
    {
     "data": {
      "text/html": [
       "<div>\n",
       "<style scoped>\n",
       "    .dataframe tbody tr th:only-of-type {\n",
       "        vertical-align: middle;\n",
       "    }\n",
       "\n",
       "    .dataframe tbody tr th {\n",
       "        vertical-align: top;\n",
       "    }\n",
       "\n",
       "    .dataframe thead th {\n",
       "        text-align: right;\n",
       "    }\n",
       "</style>\n",
       "<table border=\"1\" class=\"dataframe\">\n",
       "  <thead>\n",
       "    <tr style=\"text-align: right;\">\n",
       "      <th></th>\n",
       "      <th>pmid</th>\n",
       "      <th>Abstract</th>\n",
       "    </tr>\n",
       "  </thead>\n",
       "  <tbody>\n",
       "    <tr>\n",
       "      <th>0</th>\n",
       "      <td>38254000</td>\n",
       "      <td>BACKGROUND: The healthcare system in Iran appe...</td>\n",
       "    </tr>\n",
       "    <tr>\n",
       "      <th>1</th>\n",
       "      <td>38253924</td>\n",
       "      <td>BACKGROUND: External ventricular drain (EVD) i...</td>\n",
       "    </tr>\n",
       "    <tr>\n",
       "      <th>2</th>\n",
       "      <td>38253779</td>\n",
       "      <td>OBJECTIVES: We aimed to determine the prevalen...</td>\n",
       "    </tr>\n",
       "  </tbody>\n",
       "</table>\n",
       "</div>"
      ],
      "text/plain": [
       "       pmid                                           Abstract\n",
       "0  38254000  BACKGROUND: The healthcare system in Iran appe...\n",
       "1  38253924  BACKGROUND: External ventricular drain (EVD) i...\n",
       "2  38253779  OBJECTIVES: We aimed to determine the prevalen..."
      ]
     },
     "execution_count": 9,
     "metadata": {},
     "output_type": "execute_result"
    }
   ],
   "source": [
    "abstracts = {}\n",
    "for pmid in pmids:\n",
    "    abstracts[pmid] = fetch.article_by_pmid(pmid).abstract\n",
    "Abstract = pd.DataFrame(list(abstracts.items()),columns = ['pmid','Abstract'])\n",
    "Abstract"
   ]
  },
  {
   "cell_type": "code",
   "execution_count": 10,
   "id": "797c1ced",
   "metadata": {},
   "outputs": [
    {
     "data": {
      "text/html": [
       "<div>\n",
       "<style scoped>\n",
       "    .dataframe tbody tr th:only-of-type {\n",
       "        vertical-align: middle;\n",
       "    }\n",
       "\n",
       "    .dataframe tbody tr th {\n",
       "        vertical-align: top;\n",
       "    }\n",
       "\n",
       "    .dataframe thead th {\n",
       "        text-align: right;\n",
       "    }\n",
       "</style>\n",
       "<table border=\"1\" class=\"dataframe\">\n",
       "  <thead>\n",
       "    <tr style=\"text-align: right;\">\n",
       "      <th></th>\n",
       "      <th>pmid</th>\n",
       "      <th>Author</th>\n",
       "    </tr>\n",
       "  </thead>\n",
       "  <tbody>\n",
       "    <tr>\n",
       "      <th>0</th>\n",
       "      <td>38254000</td>\n",
       "      <td>[Hosseininasab A, MoradKasani S, Mostafavi E, ...</td>\n",
       "    </tr>\n",
       "    <tr>\n",
       "      <th>1</th>\n",
       "      <td>38253924</td>\n",
       "      <td>[Huang TF, Su YK, Su IC, Yeh YK, Liu HW, Kan I...</td>\n",
       "    </tr>\n",
       "    <tr>\n",
       "      <th>2</th>\n",
       "      <td>38253779</td>\n",
       "      <td>[Zhong L, Wang W, Tang X, Zhang Y, Gou L, Wang...</td>\n",
       "    </tr>\n",
       "  </tbody>\n",
       "</table>\n",
       "</div>"
      ],
      "text/plain": [
       "       pmid                                             Author\n",
       "0  38254000  [Hosseininasab A, MoradKasani S, Mostafavi E, ...\n",
       "1  38253924  [Huang TF, Su YK, Su IC, Yeh YK, Liu HW, Kan I...\n",
       "2  38253779  [Zhong L, Wang W, Tang X, Zhang Y, Gou L, Wang..."
      ]
     },
     "execution_count": 10,
     "metadata": {},
     "output_type": "execute_result"
    }
   ],
   "source": [
    "authors = {}\n",
    "for pmid in pmids:\n",
    "    authors[pmid] = fetch.article_by_pmid(pmid).authors\n",
    "Author = pd.DataFrame(list(authors.items()),columns = ['pmid','Author'])\n",
    "Author"
   ]
  },
  {
   "cell_type": "code",
   "execution_count": 11,
   "id": "9d263b1d",
   "metadata": {},
   "outputs": [
    {
     "data": {
      "text/html": [
       "<div>\n",
       "<style scoped>\n",
       "    .dataframe tbody tr th:only-of-type {\n",
       "        vertical-align: middle;\n",
       "    }\n",
       "\n",
       "    .dataframe tbody tr th {\n",
       "        vertical-align: top;\n",
       "    }\n",
       "\n",
       "    .dataframe thead th {\n",
       "        text-align: right;\n",
       "    }\n",
       "</style>\n",
       "<table border=\"1\" class=\"dataframe\">\n",
       "  <thead>\n",
       "    <tr style=\"text-align: right;\">\n",
       "      <th></th>\n",
       "      <th>pmid</th>\n",
       "      <th>Year</th>\n",
       "    </tr>\n",
       "  </thead>\n",
       "  <tbody>\n",
       "    <tr>\n",
       "      <th>0</th>\n",
       "      <td>38254000</td>\n",
       "      <td>2024</td>\n",
       "    </tr>\n",
       "    <tr>\n",
       "      <th>1</th>\n",
       "      <td>38253924</td>\n",
       "      <td>2024</td>\n",
       "    </tr>\n",
       "    <tr>\n",
       "      <th>2</th>\n",
       "      <td>38253779</td>\n",
       "      <td>2024</td>\n",
       "    </tr>\n",
       "  </tbody>\n",
       "</table>\n",
       "</div>"
      ],
      "text/plain": [
       "       pmid  Year\n",
       "0  38254000  2024\n",
       "1  38253924  2024\n",
       "2  38253779  2024"
      ]
     },
     "execution_count": 11,
     "metadata": {},
     "output_type": "execute_result"
    }
   ],
   "source": [
    "years = {}\n",
    "for pmid in pmids:\n",
    "    years[pmid] = fetch.article_by_pmid(pmid).year\n",
    "Year = pd.DataFrame(list(years.items()),columns = ['pmid','Year'])\n",
    "Year"
   ]
  },
  {
   "cell_type": "code",
   "execution_count": 12,
   "id": "9f8b2484",
   "metadata": {},
   "outputs": [
    {
     "data": {
      "text/html": [
       "<div>\n",
       "<style scoped>\n",
       "    .dataframe tbody tr th:only-of-type {\n",
       "        vertical-align: middle;\n",
       "    }\n",
       "\n",
       "    .dataframe tbody tr th {\n",
       "        vertical-align: top;\n",
       "    }\n",
       "\n",
       "    .dataframe thead th {\n",
       "        text-align: right;\n",
       "    }\n",
       "</style>\n",
       "<table border=\"1\" class=\"dataframe\">\n",
       "  <thead>\n",
       "    <tr style=\"text-align: right;\">\n",
       "      <th></th>\n",
       "      <th>pmid</th>\n",
       "      <th>Volume</th>\n",
       "    </tr>\n",
       "  </thead>\n",
       "  <tbody>\n",
       "    <tr>\n",
       "      <th>0</th>\n",
       "      <td>38254000</td>\n",
       "      <td>24</td>\n",
       "    </tr>\n",
       "    <tr>\n",
       "      <th>1</th>\n",
       "      <td>38253924</td>\n",
       "      <td>None</td>\n",
       "    </tr>\n",
       "    <tr>\n",
       "      <th>2</th>\n",
       "      <td>38253779</td>\n",
       "      <td>None</td>\n",
       "    </tr>\n",
       "  </tbody>\n",
       "</table>\n",
       "</div>"
      ],
      "text/plain": [
       "       pmid Volume\n",
       "0  38254000     24\n",
       "1  38253924   None\n",
       "2  38253779   None"
      ]
     },
     "execution_count": 12,
     "metadata": {},
     "output_type": "execute_result"
    }
   ],
   "source": [
    "volumes = {}\n",
    "for pmid in pmids:\n",
    "    volumes[pmid] = fetch.article_by_pmid(pmid).volume\n",
    "Volume = pd.DataFrame(list(volumes.items()),columns = ['pmid','Volume'])\n",
    "Volume"
   ]
  },
  {
   "cell_type": "code",
   "execution_count": 13,
   "id": "34209428",
   "metadata": {},
   "outputs": [
    {
     "data": {
      "text/html": [
       "<div>\n",
       "<style scoped>\n",
       "    .dataframe tbody tr th:only-of-type {\n",
       "        vertical-align: middle;\n",
       "    }\n",
       "\n",
       "    .dataframe tbody tr th {\n",
       "        vertical-align: top;\n",
       "    }\n",
       "\n",
       "    .dataframe thead th {\n",
       "        text-align: right;\n",
       "    }\n",
       "</style>\n",
       "<table border=\"1\" class=\"dataframe\">\n",
       "  <thead>\n",
       "    <tr style=\"text-align: right;\">\n",
       "      <th></th>\n",
       "      <th>pmid</th>\n",
       "      <th>Issue</th>\n",
       "    </tr>\n",
       "  </thead>\n",
       "  <tbody>\n",
       "    <tr>\n",
       "      <th>0</th>\n",
       "      <td>38254000</td>\n",
       "      <td>1</td>\n",
       "    </tr>\n",
       "    <tr>\n",
       "      <th>1</th>\n",
       "      <td>38253924</td>\n",
       "      <td>None</td>\n",
       "    </tr>\n",
       "    <tr>\n",
       "      <th>2</th>\n",
       "      <td>38253779</td>\n",
       "      <td>None</td>\n",
       "    </tr>\n",
       "  </tbody>\n",
       "</table>\n",
       "</div>"
      ],
      "text/plain": [
       "       pmid Issue\n",
       "0  38254000     1\n",
       "1  38253924  None\n",
       "2  38253779  None"
      ]
     },
     "execution_count": 13,
     "metadata": {},
     "output_type": "execute_result"
    }
   ],
   "source": [
    "issues = {}\n",
    "for pmid in pmids:\n",
    "    issues[pmid] = fetch.article_by_pmid(pmid).issue\n",
    "Issue = pd.DataFrame(list(issues.items()),columns = ['pmid','Issue'])\n",
    "Issue"
   ]
  },
  {
   "cell_type": "code",
   "execution_count": 14,
   "id": "754f23dd",
   "metadata": {},
   "outputs": [
    {
     "data": {
      "text/html": [
       "<div>\n",
       "<style scoped>\n",
       "    .dataframe tbody tr th:only-of-type {\n",
       "        vertical-align: middle;\n",
       "    }\n",
       "\n",
       "    .dataframe tbody tr th {\n",
       "        vertical-align: top;\n",
       "    }\n",
       "\n",
       "    .dataframe thead th {\n",
       "        text-align: right;\n",
       "    }\n",
       "</style>\n",
       "<table border=\"1\" class=\"dataframe\">\n",
       "  <thead>\n",
       "    <tr style=\"text-align: right;\">\n",
       "      <th></th>\n",
       "      <th>pmid</th>\n",
       "      <th>Journal</th>\n",
       "    </tr>\n",
       "  </thead>\n",
       "  <tbody>\n",
       "    <tr>\n",
       "      <th>0</th>\n",
       "      <td>38254000</td>\n",
       "      <td>BMC Infect Dis</td>\n",
       "    </tr>\n",
       "    <tr>\n",
       "      <th>1</th>\n",
       "      <td>38253924</td>\n",
       "      <td>Neurocrit Care</td>\n",
       "    </tr>\n",
       "    <tr>\n",
       "      <th>2</th>\n",
       "      <td>38253779</td>\n",
       "      <td>Clin Rheumatol</td>\n",
       "    </tr>\n",
       "  </tbody>\n",
       "</table>\n",
       "</div>"
      ],
      "text/plain": [
       "       pmid         Journal\n",
       "0  38254000  BMC Infect Dis\n",
       "1  38253924  Neurocrit Care\n",
       "2  38253779  Clin Rheumatol"
      ]
     },
     "execution_count": 14,
     "metadata": {},
     "output_type": "execute_result"
    }
   ],
   "source": [
    "journals = {}\n",
    "for pmid in pmids:\n",
    "    journals[pmid] = fetch.article_by_pmid(pmid).journal\n",
    "Journal = pd.DataFrame(list(journals.items()),columns = ['pmid','Journal'])\n",
    "Journal"
   ]
  },
  {
   "cell_type": "code",
   "execution_count": 15,
   "id": "114fbb2b",
   "metadata": {},
   "outputs": [
    {
     "data": {
      "text/html": [
       "<div>\n",
       "<style scoped>\n",
       "    .dataframe tbody tr th:only-of-type {\n",
       "        vertical-align: middle;\n",
       "    }\n",
       "\n",
       "    .dataframe tbody tr th {\n",
       "        vertical-align: top;\n",
       "    }\n",
       "\n",
       "    .dataframe thead th {\n",
       "        text-align: right;\n",
       "    }\n",
       "</style>\n",
       "<table border=\"1\" class=\"dataframe\">\n",
       "  <thead>\n",
       "    <tr style=\"text-align: right;\">\n",
       "      <th></th>\n",
       "      <th>pmid</th>\n",
       "      <th>Citation</th>\n",
       "    </tr>\n",
       "  </thead>\n",
       "  <tbody>\n",
       "    <tr>\n",
       "      <th>0</th>\n",
       "      <td>38254000</td>\n",
       "      <td>Hosseininasab A, et al. Rickettsia conorii sub...</td>\n",
       "    </tr>\n",
       "    <tr>\n",
       "      <th>1</th>\n",
       "      <td>38253924</td>\n",
       "      <td>Huang TF, et al. Risk, Predictive, and Prevent...</td>\n",
       "    </tr>\n",
       "    <tr>\n",
       "      <th>2</th>\n",
       "      <td>38253779</td>\n",
       "      <td>Zhong L, et al. Phenotype of Takayasu-like vas...</td>\n",
       "    </tr>\n",
       "  </tbody>\n",
       "</table>\n",
       "</div>"
      ],
      "text/plain": [
       "       pmid                                           Citation\n",
       "0  38254000  Hosseininasab A, et al. Rickettsia conorii sub...\n",
       "1  38253924  Huang TF, et al. Risk, Predictive, and Prevent...\n",
       "2  38253779  Zhong L, et al. Phenotype of Takayasu-like vas..."
      ]
     },
     "execution_count": 15,
     "metadata": {},
     "output_type": "execute_result"
    }
   ],
   "source": [
    "citations = {}\n",
    "for pmid in pmids:\n",
    "    citations[pmid] = fetch.article_by_pmid(pmid).citation\n",
    "Citation = pd.DataFrame(list(citations.items()),columns = ['pmid','Citation'])\n",
    "Citation"
   ]
  },
  {
   "cell_type": "code",
   "execution_count": 16,
   "id": "0957f041",
   "metadata": {},
   "outputs": [
    {
     "data": {
      "text/html": [
       "<div>\n",
       "<style scoped>\n",
       "    .dataframe tbody tr th:only-of-type {\n",
       "        vertical-align: middle;\n",
       "    }\n",
       "\n",
       "    .dataframe tbody tr th {\n",
       "        vertical-align: top;\n",
       "    }\n",
       "\n",
       "    .dataframe thead th {\n",
       "        text-align: right;\n",
       "    }\n",
       "</style>\n",
       "<table border=\"1\" class=\"dataframe\">\n",
       "  <thead>\n",
       "    <tr style=\"text-align: right;\">\n",
       "      <th></th>\n",
       "      <th>pmid</th>\n",
       "      <th>Link</th>\n",
       "    </tr>\n",
       "  </thead>\n",
       "  <tbody>\n",
       "    <tr>\n",
       "      <th>0</th>\n",
       "      <td>38254000</td>\n",
       "      <td>https://pubmed.ncbi.nlm.nih.gov/38254000/</td>\n",
       "    </tr>\n",
       "    <tr>\n",
       "      <th>1</th>\n",
       "      <td>38253924</td>\n",
       "      <td>https://pubmed.ncbi.nlm.nih.gov/38253924/</td>\n",
       "    </tr>\n",
       "    <tr>\n",
       "      <th>2</th>\n",
       "      <td>38253779</td>\n",
       "      <td>https://pubmed.ncbi.nlm.nih.gov/38253779/</td>\n",
       "    </tr>\n",
       "  </tbody>\n",
       "</table>\n",
       "</div>"
      ],
      "text/plain": [
       "       pmid                                       Link\n",
       "0  38254000  https://pubmed.ncbi.nlm.nih.gov/38254000/\n",
       "1  38253924  https://pubmed.ncbi.nlm.nih.gov/38253924/\n",
       "2  38253779  https://pubmed.ncbi.nlm.nih.gov/38253779/"
      ]
     },
     "execution_count": 16,
     "metadata": {},
     "output_type": "execute_result"
    }
   ],
   "source": [
    "links={}\n",
    "for pmid in pmids:\n",
    "    links[pmid] = \"https://pubmed.ncbi.nlm.nih.gov/\"+pmid+\"/\"\n",
    "Link = pd.DataFrame(list(links.items()),columns = ['pmid','Link'])\n",
    "Link"
   ]
  },
  {
   "cell_type": "code",
   "execution_count": 17,
   "id": "cd042f07",
   "metadata": {},
   "outputs": [
    {
     "data": {
      "text/html": [
       "<div>\n",
       "<style scoped>\n",
       "    .dataframe tbody tr th:only-of-type {\n",
       "        vertical-align: middle;\n",
       "    }\n",
       "\n",
       "    .dataframe tbody tr th {\n",
       "        vertical-align: top;\n",
       "    }\n",
       "\n",
       "    .dataframe thead th {\n",
       "        text-align: right;\n",
       "    }\n",
       "</style>\n",
       "<table border=\"1\" class=\"dataframe\">\n",
       "  <thead>\n",
       "    <tr style=\"text-align: right;\">\n",
       "      <th></th>\n",
       "      <th>pmid</th>\n",
       "      <th>Title</th>\n",
       "      <th>Abstract</th>\n",
       "      <th>Author</th>\n",
       "      <th>Year</th>\n",
       "      <th>Issue</th>\n",
       "      <th>Journal</th>\n",
       "      <th>Link</th>\n",
       "    </tr>\n",
       "  </thead>\n",
       "  <tbody>\n",
       "    <tr>\n",
       "      <th>0</th>\n",
       "      <td>38254000</td>\n",
       "      <td>Rickettsia conorii subsp. israelensis infectio...</td>\n",
       "      <td>BACKGROUND: The healthcare system in Iran appe...</td>\n",
       "      <td>[Hosseininasab A, MoradKasani S, Mostafavi E, ...</td>\n",
       "      <td>2024</td>\n",
       "      <td>1</td>\n",
       "      <td>BMC Infect Dis</td>\n",
       "      <td>https://pubmed.ncbi.nlm.nih.gov/38254000/</td>\n",
       "    </tr>\n",
       "    <tr>\n",
       "      <th>1</th>\n",
       "      <td>38253924</td>\n",
       "      <td>Risk, Predictive, and Preventive Factors for N...</td>\n",
       "      <td>BACKGROUND: External ventricular drain (EVD) i...</td>\n",
       "      <td>[Huang TF, Su YK, Su IC, Yeh YK, Liu HW, Kan I...</td>\n",
       "      <td>2024</td>\n",
       "      <td>None</td>\n",
       "      <td>Neurocrit Care</td>\n",
       "      <td>https://pubmed.ncbi.nlm.nih.gov/38253924/</td>\n",
       "    </tr>\n",
       "    <tr>\n",
       "      <th>2</th>\n",
       "      <td>38253779</td>\n",
       "      <td>Phenotype of Takayasu-like vasculitis and card...</td>\n",
       "      <td>OBJECTIVES: We aimed to determine the prevalen...</td>\n",
       "      <td>[Zhong L, Wang W, Tang X, Zhang Y, Gou L, Wang...</td>\n",
       "      <td>2024</td>\n",
       "      <td>None</td>\n",
       "      <td>Clin Rheumatol</td>\n",
       "      <td>https://pubmed.ncbi.nlm.nih.gov/38253779/</td>\n",
       "    </tr>\n",
       "  </tbody>\n",
       "</table>\n",
       "</div>"
      ],
      "text/plain": [
       "       pmid                                              Title  \\\n",
       "0  38254000  Rickettsia conorii subsp. israelensis infectio...   \n",
       "1  38253924  Risk, Predictive, and Preventive Factors for N...   \n",
       "2  38253779  Phenotype of Takayasu-like vasculitis and card...   \n",
       "\n",
       "                                            Abstract  \\\n",
       "0  BACKGROUND: The healthcare system in Iran appe...   \n",
       "1  BACKGROUND: External ventricular drain (EVD) i...   \n",
       "2  OBJECTIVES: We aimed to determine the prevalen...   \n",
       "\n",
       "                                              Author  Year Issue  \\\n",
       "0  [Hosseininasab A, MoradKasani S, Mostafavi E, ...  2024     1   \n",
       "1  [Huang TF, Su YK, Su IC, Yeh YK, Liu HW, Kan I...  2024  None   \n",
       "2  [Zhong L, Wang W, Tang X, Zhang Y, Gou L, Wang...  2024  None   \n",
       "\n",
       "          Journal                                       Link  \n",
       "0  BMC Infect Dis  https://pubmed.ncbi.nlm.nih.gov/38254000/  \n",
       "1  Neurocrit Care  https://pubmed.ncbi.nlm.nih.gov/38253924/  \n",
       "2  Clin Rheumatol  https://pubmed.ncbi.nlm.nih.gov/38253779/  "
      ]
     },
     "execution_count": 17,
     "metadata": {},
     "output_type": "execute_result"
    }
   ],
   "source": [
    "data_frames = [Title,Abstract,Author,Year,Issue,Journal,Link]\n",
    "from functools import reduce\n",
    "df_merged = reduce(lambda  left,right: pd.merge(left,right,on=['pmid'],\n",
    "                                            how='outer'), data_frames)\n",
    "df_merged"
   ]
  },
  {
   "cell_type": "code",
   "execution_count": null,
   "id": "9cb2aade",
   "metadata": {},
   "outputs": [],
   "source": [
    "# df_merged.to_csv('pubmed_articles.csv')"
   ]
  }
 ],
 "metadata": {
  "kernelspec": {
   "display_name": "Python 3 (ipykernel)",
   "language": "python",
   "name": "python3"
  },
  "language_info": {
   "codemirror_mode": {
    "name": "ipython",
    "version": 3
   },
   "file_extension": ".py",
   "mimetype": "text/x-python",
   "name": "python",
   "nbconvert_exporter": "python",
   "pygments_lexer": "ipython3",
   "version": "3.9.13"
  }
 },
 "nbformat": 4,
 "nbformat_minor": 5
}
