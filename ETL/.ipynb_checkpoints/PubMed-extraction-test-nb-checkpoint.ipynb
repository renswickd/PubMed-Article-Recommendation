{
 "cells": [
  {
   "cell_type": "code",
   "execution_count": 53,
   "id": "24881243",
   "metadata": {},
   "outputs": [],
   "source": [
    "import pandas\n",
    "from bs4 import BeautifulSoup\n",
    "import requests"
   ]
  },
  {
   "cell_type": "code",
   "execution_count": 54,
   "id": "ee41344a",
   "metadata": {},
   "outputs": [
    {
     "data": {
      "text/plain": [
       "'https://pubmed.ncbi.nlm.nih.gov/?term=vaccine+hesitancy+of+covishield+in+india&filter=datesearch.y_1'"
      ]
     },
     "execution_count": 54,
     "metadata": {},
     "output_type": "execute_result"
    }
   ],
   "source": [
    "def create_search_link(search_term):\n",
    "    \n",
    "    # sample link = https://pubmed.ncbi.nlm.nih.gov/?term=covid+19&filter=datesearch.y_1\n",
    "    search_term_space_removed = search_term.replace(\" \",\"+\")\n",
    "    \n",
    "    return f\"https://pubmed.ncbi.nlm.nih.gov/?term={search_term_space_removed}&filter=datesearch.y_1\"\n",
    "\n",
    "create_search_link('vaccine hesitancy of covishield in india')"
   ]
  },
  {
   "cell_type": "code",
   "execution_count": 55,
   "id": "93df3027",
   "metadata": {},
   "outputs": [
    {
     "name": "stdout",
     "output_type": "stream",
     "text": [
      "vaccine hesitancy of covishield in india\n",
      "<Response [200]>\n"
     ]
    }
   ],
   "source": [
    "metadata_url = create_search_link(input().strip())#\"https://pubmed.ncbi.nlm.nih.gov/?term=covid\"\n",
    "metadata_response = requests.get(metadata_url)\n",
    "print(metadata_response)"
   ]
  },
  {
   "cell_type": "code",
   "execution_count": 56,
   "id": "da7e52a6",
   "metadata": {},
   "outputs": [],
   "source": [
    "itemful = dict()\n",
    "if metadata_response.status_code == 200:\n",
    "    metadata_soup = BeautifulSoup(metadata_response.content, 'html.parser')\n",
    "    metadata_content = metadata_soup.find_all('div', class_ = \"docsum-content\")\n",
    "\n",
    "    for item in content:\n",
    "        pmid = item.find(\"span\", class_=\"docsum-pmid\").text.strip()\n",
    "        paper_name = item.find(\"a\", class_=\"docsum-title\").text.strip()\n",
    "        author = item.find(\"span\", class_=\"docsum-authors full-authors\").text.strip()\n",
    "        \n",
    "        itemful[pmid] = {\n",
    "                        \"paper_name\": paper_name,\n",
    "                        \"author\":author\n",
    "        }"
   ]
  },
  {
   "cell_type": "code",
   "execution_count": 57,
   "id": "62ebaa9e",
   "metadata": {},
   "outputs": [
    {
     "data": {
      "text/plain": [
       "dict_keys(['37123709', '37351634', '37709772', '38146559'])"
      ]
     },
     "execution_count": 57,
     "metadata": {},
     "output_type": "execute_result"
    }
   ],
   "source": [
    "itemful.keys()"
   ]
  },
  {
   "cell_type": "code",
   "execution_count": 64,
   "id": "85ad40ee",
   "metadata": {},
   "outputs": [
    {
     "name": "stdout",
     "output_type": "stream",
     "text": [
      "<Response [200]>\n",
      "<Response [200]>\n",
      "<Response [200]>\n",
      "<Response [200]>\n"
     ]
    }
   ],
   "source": [
    "for pmid in itemful.keys():\n",
    "    \n",
    "    abstarct_url = f\"https://pubmed.ncbi.nlm.nih.gov/{pmid}/\"\n",
    "\n",
    "    abstract_response = requests.get(abstarct_url)\n",
    "\n",
    "    abstract_soup = BeautifulSoup(abstract_response.content, 'html.parser')\n",
    "    abstract_content = abstract_soup.find_all('div', class_ = \"article-page\")\n",
    "    \n",
    "    for i in abstract_content:\n",
    "        if i.find('div', class_=\"abstract-content selected\"):\n",
    "            abstarct = i.find('div', class_=\"abstract-content selected\").text.strip()\n",
    "            if abstarct:\n",
    "                itemful[pmid]['abstract'] = abstarct"
   ]
  },
  {
   "cell_type": "code",
   "execution_count": 65,
   "id": "24e6c231",
   "metadata": {},
   "outputs": [
    {
     "data": {
      "text/plain": [
       "dict_keys(['37123709', '37351634', '37709772', '38146559'])"
      ]
     },
     "execution_count": 65,
     "metadata": {},
     "output_type": "execute_result"
    }
   ],
   "source": [
    "itemful.keys()"
   ]
  },
  {
   "cell_type": "code",
   "execution_count": 68,
   "id": "b8a4b2b0",
   "metadata": {},
   "outputs": [
    {
     "data": {
      "text/plain": [
       "{'paper_name': 'Media Reporting Relating to COVID-19 Vaccination as a Driver of Vaccine Hesitancy Prior to the Second Wave of the COVID-19 Pandemic in India: A Content Analysis of Newspaper and Digital Media Reports.',\n",
       " 'author': 'Basu S, Sharma H.',\n",
       " 'abstract': \"Background Over 2,40,000 deaths were attributed to the SARS-CoV-2 Delta (B.1.617.2) variant in India during the second wave of the pandemic from April to June 2021 with most deaths occurring in the unvaccinated population. High levels of coronavirus disease 2019 (COVID-19) vaccine hesitancy contributed to significantly reduced vaccination coverage in the eligible population especially among healthcare workers, comorbid and older people. The existing global evidence suggests misinformation through social media to accentuate, while newspaper and mainstream media reporting to be protective against vaccine hesitancy during the COVID-19 pandemic. Content analysis of regular press coverage of COVID-19 vaccination in India during the period of initial deployment and until the onset of the second wave of the pandemic can provide useful learnings and strengthen preparedness for addressing potential vaccine hesitancy concerns during future pandemics. Therefore, we conducted this inductive content analysis of press coverage related to the COVID-19 vaccine hesitancy in India prior to the second (Delta) wave of the COVID-19 pandemic. Methods We examined news reports related to COVID-19 vaccination in India for the period from 1st January 2021 to 28 February 2021 from a high circulation English language daily (Hindustan Times), Hindi (vernacular) language daily (Dainik Jagran), and English language news reports from selected digital news portals. The inclusion criterion was any news report related to COVID-19 vaccination including editorials and guest opinion pieces that could potentially generate COVID-19-related vaccine hesitancy. The news items were classified depending on their potential to drive vaccine hesitancy by either avoiding reporting of positive information related to COVID-19 vaccines, or attributing directly or indirectly, negative or misleading commentary relating to vaccine safety or efficacy. Reports with possible risk of increasing vaccine hesitancy were further analyzed based on content, source of information, and the extent of fact-checking. Results Most of the published newspaper reports examined in this study echoed official news sources and views from government health agencies promoting COVID-19 vaccine acceptance and dispelling doubts on concerns regarding vaccine safety. There were eight unique newspaper reports after excluding duplicated bilingual entries and four news items from online digital Indian news sources that met our criterion of reports with possible contribution to vaccine hesitancy. The reports possibly contributed to vaccine hesitancy were grouped into two themes: (i) Doubts on the safety and efficacy of local manufactured vaccines: most of these reports focused on the granting of emergency use authorization for Covaxin (BBV152) in 'clinical trial mode' without the completion and publication of Phase-3 efficacy data (ii). Doubts on vaccine requirement considering high seroprevalence and reduced virus transmission. Conclusions Concerns about the efficacy and safety of Covaxin (BBV152), safety of the Covishield vaccine, and questioning the necessity of immunizing all adults with COVID-19 vaccines were observed in multiple press reports with attempts at politicization of vaccination-related decisions. The press reporting with potential for contributing to significant COVID-19 vaccine hesitancy since launch and until the Delta wave of the pandemic in India has important lessons in future pandemic preparedness.\"}"
      ]
     },
     "execution_count": 68,
     "metadata": {},
     "output_type": "execute_result"
    }
   ],
   "source": [
    "itemful['37123709']"
   ]
  },
  {
   "cell_type": "code",
   "execution_count": null,
   "id": "d7de493e",
   "metadata": {},
   "outputs": [],
   "source": []
  }
 ],
 "metadata": {
  "kernelspec": {
   "display_name": "Python 3 (ipykernel)",
   "language": "python",
   "name": "python3"
  },
  "language_info": {
   "codemirror_mode": {
    "name": "ipython",
    "version": 3
   },
   "file_extension": ".py",
   "mimetype": "text/x-python",
   "name": "python",
   "nbconvert_exporter": "python",
   "pygments_lexer": "ipython3",
   "version": "3.9.13"
  }
 },
 "nbformat": 4,
 "nbformat_minor": 5
}
