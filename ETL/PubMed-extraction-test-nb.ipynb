{
 "cells": [
  {
   "cell_type": "code",
   "execution_count": 2,
   "id": "24881243",
   "metadata": {},
   "outputs": [],
   "source": [
    "import pandas\n",
    "from bs4 import BeautifulSoup\n",
    "import requests"
   ]
  },
  {
   "cell_type": "code",
   "execution_count": 3,
   "id": "ee41344a",
   "metadata": {},
   "outputs": [
    {
     "data": {
      "text/plain": [
       "'https://pubmed.ncbi.nlm.nih.gov/?term=covid+19&filter=datesearch.y_1'"
      ]
     },
     "execution_count": 3,
     "metadata": {},
     "output_type": "execute_result"
    }
   ],
   "source": [
    "def create_search_link(search_term):\n",
    "    \n",
    "    # sample link = https://pubmed.ncbi.nlm.nih.gov/?term=covid+19&filter=datesearch.y_1\n",
    "    search_term_space_removed = search_term.replace(\" \",\"+\")\n",
    "    \n",
    "    return f\"https://pubmed.ncbi.nlm.nih.gov/?term={search_term_space_removed}&filter=datesearch.y_1\"\n",
    "\n",
    "create_search_link('covid 19')"
   ]
  },
  {
   "cell_type": "code",
   "execution_count": 4,
   "id": "93df3027",
   "metadata": {},
   "outputs": [
    {
     "name": "stdout",
     "output_type": "stream",
     "text": [
      "covid 19\n",
      "<Response [200]>\n"
     ]
    }
   ],
   "source": [
    "metadata_url = create_search_link(input().strip())#\"https://pubmed.ncbi.nlm.nih.gov/?term=covid\"\n",
    "metadata_response = requests.get(metadata_url)\n",
    "print(metadata_response)"
   ]
  },
  {
   "cell_type": "code",
   "execution_count": 7,
   "id": "da7e52a6",
   "metadata": {},
   "outputs": [],
   "source": [
    "itemful = dict()\n",
    "if metadata_response.status_code == 200:\n",
    "    metadata_soup = BeautifulSoup(metadata_response.content, 'html.parser')\n",
    "    metadata_content = metadata_soup.find_all('div', class_ = \"docsum-content\")\n",
    "\n",
    "    for item in metadata_content:\n",
    "        pmid = item.find(\"span\", class_=\"docsum-pmid\").text.strip()\n",
    "        paper_name = item.find(\"a\", class_=\"docsum-title\").text.strip()\n",
    "        author = item.find(\"span\", class_=\"docsum-authors full-authors\").text.strip()\n",
    "        \n",
    "        itemful[pmid] = {\n",
    "                        \"paper_name\": paper_name,\n",
    "                        \"author\":author\n",
    "        }"
   ]
  },
  {
   "cell_type": "code",
   "execution_count": 8,
   "id": "62ebaa9e",
   "metadata": {},
   "outputs": [
    {
     "data": {
      "text/plain": [
       "dict_keys(['36420736', '36995773', '37192595', '37158762', '36646092', '37208749', '36598554', '37094803', '37130789', '37562083'])"
      ]
     },
     "execution_count": 8,
     "metadata": {},
     "output_type": "execute_result"
    }
   ],
   "source": [
    "itemful.keys()"
   ]
  },
  {
   "cell_type": "code",
   "execution_count": 9,
   "id": "85ad40ee",
   "metadata": {},
   "outputs": [],
   "source": [
    "for pmid in itemful.keys():\n",
    "    \n",
    "    abstarct_url = f\"https://pubmed.ncbi.nlm.nih.gov/{pmid}/\"\n",
    "\n",
    "    abstract_response = requests.get(abstarct_url)\n",
    "\n",
    "    abstract_soup = BeautifulSoup(abstract_response.content, 'html.parser')\n",
    "    abstract_content = abstract_soup.find_all('div', class_ = \"article-page\")\n",
    "    \n",
    "    for i in abstract_content:\n",
    "        if i.find('div', class_=\"abstract-content selected\"):\n",
    "            abstarct = i.find('div', class_=\"abstract-content selected\").text.strip()\n",
    "            if abstarct:\n",
    "                itemful[pmid]['abstract'] = abstarct"
   ]
  },
  {
   "cell_type": "code",
   "execution_count": 10,
   "id": "24e6c231",
   "metadata": {},
   "outputs": [
    {
     "data": {
      "text/plain": [
       "dict_keys(['36420736', '36995773', '37192595', '37158762', '36646092', '37208749', '36598554', '37094803', '37130789', '37562083'])"
      ]
     },
     "execution_count": 10,
     "metadata": {},
     "output_type": "execute_result"
    }
   ],
   "source": [
    "itemful.keys()"
   ]
  },
  {
   "cell_type": "code",
   "execution_count": 11,
   "id": "b8a4b2b0",
   "metadata": {},
   "outputs": [
    {
     "data": {
      "text/plain": [
       "{'paper_name': 'Recent developments in the immunopathology of COVID-19.',\n",
       " 'author': 'Zhang HP, Sun YL, Wang YF, Yazici D, Azkur D, Ogulur I, Azkur AK, Yang ZW, Chen XX, Zhang AZ, Hu JQ, Liu GH, Akdis M, Akdis CA, Gao YD.',\n",
       " 'abstract': 'There has been an important change in the clinical characteristics and immune profile of Coronavirus disease 2019 (COVID-19) patients during the pandemic thanks to the extensive vaccination programs. Here, we highlight recent studies on COVID-19, from the clinical and immunological characteristics to the protective and risk factors for severity and mortality of COVID-19. The efficacy of the COVID-19 vaccines and potential allergic reactions after administration are also discussed. The occurrence of new variants of concerns such as Omicron BA.2, BA.4, and BA.5 and the global administration of COVID-19 vaccines have changed the clinical scenario of COVID-19. Multisystem inflammatory syndrome in children (MIS-C) may cause severe and heterogeneous disease but with a lower mortality rate. Perturbations in immunity of T cells, B cells, and mast cells, as well as autoantibodies and metabolic reprogramming may contribute to the long-term symptoms of COVID-19. There is conflicting evidence about whether atopic diseases, such as allergic asthma and rhinitis, are associated with a lower susceptibility and better outcomes of COVID-19. At the beginning of pandemic, the European Academy of Allergy and Clinical Immunology (EAACI) developed guidelines that provided timely information for the management of allergic diseases and preventive measures to reduce transmission in the allergic clinics. The global distribution of COVID-19 vaccines and emerging severe acute respiratory syndrome coronavirus 2 (SARS-CoV-2) variants with reduced pathogenic potential dramatically decreased the morbidity, severity, and mortality of COVID-19. Nevertheless, breakthrough infection remains a challenge for disease control. Hypersensitivity reactions (HSR) to COVID-19 vaccines are low compared to other vaccines, and these were addressed in EAACI statements that provided indications for the management of allergic reactions, including anaphylaxis to COVID-19 vaccines. We have gained a depth knowledge and experience in the over 2 years since the start of the pandemic, and yet a full eradication of SARS-CoV-2 is not on the horizon. Novel strategies are warranted to prevent severe disease in high-risk groups, the development of MIS-C and long COVID-19.'}"
      ]
     },
     "execution_count": 11,
     "metadata": {},
     "output_type": "execute_result"
    }
   ],
   "source": [
    "itemful['36420736']"
   ]
  },
  {
   "cell_type": "code",
   "execution_count": null,
   "id": "d7de493e",
   "metadata": {},
   "outputs": [],
   "source": []
  }
 ],
 "metadata": {
  "kernelspec": {
   "display_name": "Python 3 (ipykernel)",
   "language": "python",
   "name": "python3"
  },
  "language_info": {
   "codemirror_mode": {
    "name": "ipython",
    "version": 3
   },
   "file_extension": ".py",
   "mimetype": "text/x-python",
   "name": "python",
   "nbconvert_exporter": "python",
   "pygments_lexer": "ipython3",
   "version": "3.9.13"
  }
 },
 "nbformat": 4,
 "nbformat_minor": 5
}
