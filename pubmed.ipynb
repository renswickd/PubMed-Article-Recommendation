{
 "cells": [
  {
   "cell_type": "code",
   "execution_count": 12,
   "id": "31a3731d",
   "metadata": {},
   "outputs": [],
   "source": [
    "from requests_html import HTMLSession\n",
    "import requests\n",
    "from requests.exceptions import ConnectionError"
   ]
  },
  {
   "cell_type": "code",
   "execution_count": 13,
   "id": "0aebf749",
   "metadata": {},
   "outputs": [],
   "source": [
    "s = HTMLSession()"
   ]
  },
  {
   "cell_type": "code",
   "execution_count": 39,
   "id": "af601340",
   "metadata": {},
   "outputs": [
    {
     "name": "stdout",
     "output_type": "stream",
     "text": [
      "Type your paper name:fever\n",
      "Paper URL: /26772198/\n",
      "Paper URL: /35822579/\n",
      "Paper URL: /20660880/\n",
      "Paper URL: /9208885/\n",
      "Paper URL: /8698996/\n",
      "Paper URL: /16895496/\n",
      "Paper URL: /29940346/\n",
      "Paper URL: /10913413/\n",
      "Paper URL: /27209095/\n",
      "Paper URL: /8272282/\n"
     ]
    }
   ],
   "source": [
    "from requests_html import HTMLSession\n",
    "\n",
    "s = HTMLSession()\n",
    "\n",
    "headers = {\n",
    "    'User-Agent': 'Mozilla/5.0 (Windows NT 10.0; Win64; x64) AppleWebKit/537.36 (KHTML, like Gecko) Chrome/120.0.0.0 Safari/537.36'\n",
    "}\n",
    "\n",
    "paper_title = input(\"Type your paper name:\")\n",
    "\n",
    "search_url = f\"https://pubmed.ncbi.nlm.nih.gov/?term={paper_title.replace(' ', '+')}\"\n",
    "\n",
    "r = s.get(search_url, headers=headers, timeout=5)\n",
    "\n",
    "# Check if the request was successful (status code 200)\n",
    "if r.status_code == 200:\n",
    "    for result in r.html.find('a.docsum-title'):\n",
    "        paper_url = result.attrs['href']\n",
    "        print(f\"Paper URL: {paper_url}\")\n",
    "\n",
    "else:\n",
    "    print(f\"Failed to retrieve search results for paper title: {paper_title}. Status Code: {r.status_code}\")\n",
    "\n",
    "s.keep_alive = False\n",
    "s.close()\n"
   ]
  },
  {
   "cell_type": "code",
   "execution_count": 40,
   "id": "e24aaeee",
   "metadata": {
    "scrolled": false
   },
   "outputs": [
    {
     "name": "stdout",
     "output_type": "stream",
     "text": [
      "Type your paper name:fever\n",
      "Title: Title not found\n",
      "Abstract: Fever is a relatively common occurrence among patients in the intensive care setting. Although the most obvious and concerning etiology is sepsis, drug reactions, venous thromboembolism, and postsurgical fevers are all on the differential diagnosis. There is abundant evidence that fever is detrimental in acute neurologic injury. Worse outcomes are reported in acute stroke, subarachnoid hemorrhage, and traumatic brain injury. In addition to the various etiologies of fever in the intensive care setting, neurologic illness is a risk factor for neurogenic fevers. This primarily occurs in subarachnoid hemorrhage and traumatic brain injury, with hypothalamic injury being the proposed mechanism. Paroxysmal sympathetic hyperactivity is another source of hyperthermia commonly seen in the population with traumatic brain injury. This review focuses on the detrimental effects of fever on the neurologically injured as well as the risk factors and diagnosis of neurogenic fever.\n",
      "URL: https://pubmed.ncbi.nlm.nih.gov/26772198/\n",
      "\n",
      "\n",
      "Title: Title not found\n",
      "Abstract: Fever is an abnormal increase in body temperature that occurs as part of a specific biologic response mediated and controlled by the central nervous system. Despite the fact that most fevers are viral in origin, approaching a febrile child is always a concern for any physician. There is still a significant gap between current practice and scientific evidence. According to research, we are at a crossroad, with strong research evidence accumulating over the last few decades supporting a positive role for fever and the ongoing pressures of current practice to lower body temperature. Despite the fact that most pediatricians agree that treating a febrile child with antipyretics is primarily for the relief of fever symptoms, many continue to prescribe antipyretics for any child with fever, ignoring important research messages. By prescribing antipyretics to children who are only mildly febrile, pediatricians may contribute to fever phobia. We give parents the impression that fever is harmful and that antipyresis is beneficial when we focus on treating the fever. The purpose of this review is to present the evidence that is currently available regarding the management of the febrile child.\n",
      "URL: https://pubmed.ncbi.nlm.nih.gov/35822579/\n",
      "\n",
      "\n",
      "Title: Title not found\n",
      "Abstract: Fever is an active yet nonspecific response of the body to infections and other insults that cause immune cells to release cytokines, resulting in a brain prostanoid-mediated rise in body temperature. The causes, types, clinical management, and postoperative consequences of fever are reviewed in this article. Physicians use fever as a clinical sign for diagnoses and prognoses, but \"fevers of unknown origin\" continue to be problematic. Fevers that arise 1 or 2 days after surgery are usually due to stress and trauma, but later postoperative fevers often have more serious causes and consequences, such as wound infection. Fever is commonly encountered by podiatric physicians and surgeons, and certain procedures with the lower extremity are more likely to eventuate in fever.\n",
      "URL: https://pubmed.ncbi.nlm.nih.gov/20660880/\n",
      "\n",
      "\n",
      "Title: Title not found\n",
      "Abstract: Measurement of body temperature is the most common clinical test performed. The presence of fever is accepted as a reliable indicator of either acute of chronic disease. Although the vast majority of fevers are caused by infectious agents, some solid tumors have fever as a presenting illness usually because of associated inflammation or infection secondary to the neoplasm. However, cancer cells can spontaneously produce cytokines, small proteins with multiple biological properties. Some cytokines released by neoplastic cells are pyrogenic, ie, they produce fever directly by their action on the hypothalamic thermoregulatory center. Examples of malignant cells producing pyrogenic cytokines are renal carcinoma, lymphomas, and acute myelogenous and chronic myelogenous leukemias. The pyrogenic cytokines released by these cancers are interleukin-6, interleukin-1, tumor necrosis factor, and interferon, but others likely exist. Antipyretics reduce fever regardless of its causation; some studies suggest that fever caused by pyrogenic cytokines released from malignancies is preferentially reduced by nonsteroidal anti-inflammatory agents.\n",
      "URL: https://pubmed.ncbi.nlm.nih.gov/9208885/\n",
      "\n",
      "\n",
      "Title: Title not found\n",
      "Abstract: Drug fever is the febrile response to a drug without cutaneous manifestations. Although the exact incidence of drug fever remains unknown, it has been estimated to occur in approximately 10% of inpatients. The recognition of drug fever is of great clinical importance because, if drug fever is not recognized diagnostically, patients may be subjected to prolonged hospitalization and unnecessary testing or medications. Early diagnosis and treatment of drug fevers are essential in maintaining cost-effective, high-quality medical care.\n",
      "URL: https://pubmed.ncbi.nlm.nih.gov/8698996/\n",
      "\n",
      "\n",
      "Title: Title not found\n",
      "Abstract: Background: Fever is common in surgical patients. The list of potential causes is long and includes many noninfective etiologies.\n",
      "URL: https://pubmed.ncbi.nlm.nih.gov/16895496/\n",
      "\n",
      "\n",
      "Title: Title not found\n",
      "Abstract: Abstract not found\n",
      "URL: https://pubmed.ncbi.nlm.nih.gov/29940346/\n",
      "\n",
      "\n",
      "Title: Title not found\n",
      "Abstract: Infections in the elderly, similar to other acute illnesses in this age group, may present in atypical, nonclassical fashions. Fever, the cardinal sign of infection, may be absent or blunted 20%-30% of the time. An absent or blunted fever response may in turn contribute to diagnostic delays in this population, which is already at risk for increased morbidity and mortality due to infection. On the other hand, the presence of a fever in the geriatric patient is more likely to be associated with a serious viral or bacterial infection than is fever in a younger patient. Finally, a diagnosis can be made in the majority of cases of fever of unknown origin (FUO) in the elderly. FUO is often associated with treatable conditions in this age group.\n",
      "URL: https://pubmed.ncbi.nlm.nih.gov/10913413/\n",
      "\n",
      "\n",
      "Title: Title not found\n",
      "Abstract: The incidence and likely causes of fever of unknown origin (FUO) have changed over the last few decades, largely because enhanced capabilities of laboratory testing and imaging have helped confirm earlier diagnoses. History and examination are still of paramount importance for cryptogenic infections. Adolescents who have persisting nonspecific complaints of fatigue sometimes are referred to Pediatric Infectious Diseases consultants for FUO because the problem began with an acute febrile illness or measured temperatures are misidentified as \"fevers\". A thorough history that reveals myriad symptoms when juxtaposed against normal findings on examination and simple laboratory testing can suggest a diagnosis of \"fatigue of deconditioning\". \"Treatment\" is forced return to school, and reconditioning. The management of patients with acute onset of fever without an obvious source or focus of infection is dependent on age. Infants under one month of age are at risk for serious and rapidly progressive bacterial and viral infections, and yet initially can have fever without other observable abnormalities. Urgent investigation and pre-emptive therapies usually are prudent. By two months of age, clinical judgment best guides management. Between one and two months of age, a decision to investigate or not depends on considerations of the height and duration of fever, the patient's observable behavior/interaction, knowledge of concurrent family illnesses, and likelihood of close observation and follow up. Children 6 months-36 months of age with acute onset of fever who appear well and have no observable focus of infection can be evaluated clinically, without laboratory investigation or antibiotic therapy, unless risk factors elevate the likelihood of urinary tract infection.\n",
      "URL: https://pubmed.ncbi.nlm.nih.gov/27209095/\n",
      "\n",
      "\n",
      "Title: Title not found\n",
      "Abstract: The present review distinguishes pathogenic, neurogenic, and psychogenic fever, but focuses largely on pathogenic fever, the hallmark of infectious disease. The data presented show that a complex cascade of events underlies pathogenic fever, which in broad outline - and with frank disregard of contradictory data - can be described as follows. An invading microorganism releases endotoxin that stimulates macrophages to synthesize a variety of pyrogenic compounds called cytokines. Carried in blood, these cytokines reach the perivascular spaces of the organum vasculosum laminae terminalis (OVLT) and other regions near the brain where they promote the synthesis and release of prostaglandin (PGE2). This prostaglandin then penetrates the blood-brain barrier to evoke the autonomic and behavioral responses characteristic of fever. But then once expressed, fever does not continue unchecked; endogenous antipyretics likely act on the septum to limit the rise in body temperature. The present review also examines fever-resistance in neonates, the blunting of fever in the aged, and the behaviorally induced rise in body temperature following infection in ectotherms. And finally it takes up the question of whether fever enhances immune responsiveness, and through such enhancement contributes to host survival.\n",
      "URL: https://pubmed.ncbi.nlm.nih.gov/8272282/\n",
      "\n",
      "\n"
     ]
    }
   ],
   "source": [
    "from requests_html import HTMLSession\n",
    "from urllib.parse import urljoin\n",
    "\n",
    "s = HTMLSession()\n",
    "\n",
    "headers = {\n",
    "    'User-Agent': 'Mozilla/5.0 (Windows NT 10.0; Win64; x64) AppleWebKit/537.36 (KHTML, like Gecko) Chrome/120.0.0.0 Safari/537.36'\n",
    "}\n",
    "\n",
    "paper_title = input(\"Type your paper name:\")\n",
    "search_url = f\"https://pubmed.ncbi.nlm.nih.gov/?term={paper_title.replace(' ', '+')}\"\n",
    "r = s.get(search_url, headers=headers, timeout=5)\n",
    "\n",
    "if r.status_code == 200:\n",
    "    \n",
    "    for result in r.html.find('a.docsum-title')[:10]:      #the top 10 papers\n",
    "        paper_url = result.attrs['href']\n",
    "        full_url = urljoin(search_url, paper_url)\n",
    "\n",
    "        # Extract details from each paper URL\n",
    "        r_paper = s.get(full_url, headers=headers, timeout=5)\n",
    "\n",
    "        if r_paper.status_code == 200:\n",
    "            title_element = r_paper.html.find('h1.article-title', first=True)\n",
    "            abstract_element = r_paper.html.find('div.abstract-content p', first=True)\n",
    "\n",
    "            title = title_element.text if title_element else \"Title not found\"\n",
    "            abstract = abstract_element.text if abstract_element else \"Abstract not found\"\n",
    "\n",
    "            print(f\"Title: {title}\")\n",
    "            print(f\"Abstract: {abstract}\")\n",
    "            print(f\"URL: {full_url}\")\n",
    "            print(\"\\n\")\n",
    "\n",
    "        else:\n",
    "            print(f\"Failed to retrieve details for paper URL: {full_url}. Status Code: {r_paper.status_code}\")\n",
    "\n",
    "else:\n",
    "    print(f\"Failed to retrieve search results for paper title: {paper_title}. Status Code: {r.status_code}\")\n",
    "\n",
    "s.keep_alive = False\n",
    "s.close()\n",
    "\n"
   ]
  },
  {
   "cell_type": "markdown",
   "id": "54184bcf",
   "metadata": {},
   "source": [
    "# Type 2"
   ]
  },
  {
   "cell_type": "code",
   "execution_count": 32,
   "id": "884b6e2e",
   "metadata": {},
   "outputs": [],
   "source": [
    "# from bs4 import BeautifulSoup\n",
    "# import requests"
   ]
  },
  {
   "cell_type": "code",
   "execution_count": 33,
   "id": "d6b86f2b",
   "metadata": {},
   "outputs": [],
   "source": [
    "# response = requests.get(\"https://pubmed.ncbi.nlm.nih.gov/?term=fever\")"
   ]
  },
  {
   "cell_type": "code",
   "execution_count": 34,
   "id": "0bd8ea83",
   "metadata": {},
   "outputs": [],
   "source": [
    "# response.content[:10]"
   ]
  },
  {
   "cell_type": "code",
   "execution_count": 35,
   "id": "0a7d2c08",
   "metadata": {},
   "outputs": [],
   "source": [
    "# response.content"
   ]
  },
  {
   "cell_type": "code",
   "execution_count": 36,
   "id": "90cd1a9f",
   "metadata": {},
   "outputs": [],
   "source": [
    "# scoup = BeautifulSoup(response.content)"
   ]
  },
  {
   "cell_type": "code",
   "execution_count": 37,
   "id": "13011044",
   "metadata": {},
   "outputs": [],
   "source": [
    "# print(scoup.prettify())"
   ]
  },
  {
   "cell_type": "code",
   "execution_count": 38,
   "id": "47dedff1",
   "metadata": {},
   "outputs": [],
   "source": [
    "# divs = scoup.find_all('div',attrs={\"class\":\"_1AtVbE col-12-12\"})"
   ]
  },
  {
   "cell_type": "code",
   "execution_count": null,
   "id": "f3239a9b",
   "metadata": {},
   "outputs": [],
   "source": []
  }
 ],
 "metadata": {
  "kernelspec": {
   "display_name": "Python 3 (ipykernel)",
   "language": "python",
   "name": "python3"
  },
  "language_info": {
   "codemirror_mode": {
    "name": "ipython",
    "version": 3
   },
   "file_extension": ".py",
   "mimetype": "text/x-python",
   "name": "python",
   "nbconvert_exporter": "python",
   "pygments_lexer": "ipython3",
   "version": "3.9.13"
  }
 },
 "nbformat": 4,
 "nbformat_minor": 5
}
